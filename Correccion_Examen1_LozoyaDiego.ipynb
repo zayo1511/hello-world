{
  "cells": [
    {
      "cell_type": "markdown",
      "id": "1e2823cf",
      "metadata": {
        "id": "1e2823cf"
      },
      "source": [
        "# Examen A Módulo 1 - Optimización.\n",
        "\n",
        "**Lea cuidadosamente las siguientes indicaciones antes de comenzar el examen:**\n",
        "- Para resolver el examen edite este mismo archivo y renómbrelo de la siguiente manera: *Examen1_ApellidoNombre*, donde *ApellidoNombre* corresponde a su apellido paterno con la inicial en mayúscula, seguido de su primer nombre con la inicial en mayúscula **sin acentos**. Por ejemplo, en mi caso el nombre del archivo sería *Examen1_MoralesGabriel*.\n",
        "- Resuelva los puntos en el espacio provisto. Si requiere agregar más celdas para código o escritura, hágalo (`Esc`,`B`) o (`Esc`,`A`).\n",
        "- Recuerde que también se está evaluando su capacidad de interpretar los resultados. Escriba sus interpretaciones/conclusiones en celdas utilizando *Markdown*.\n",
        "- El formato de presentación de todo el examen en general debe ser adecuado. Use tamaños de letra, colores, etiquetas, etcétera.\n",
        "- No se resuelven dudas de ningún tipo por los profesores de la asignatura. Por favor, absténgase de preguntar.\n",
        "- Revise bien el tipo de examen. Sólo se le calificará si realiza el tipo de examen asignado."
      ]
    },
    {
      "cell_type": "code",
      "source": [
        "import sympy as sp\n",
        "import numpy as np\n",
        "import pandas as pd\n",
        "import matplotlib.pyplot as plt\n",
        "%matplotlib inline\n",
        "import scipy.optimize as opt\n",
        "\n",
        "from google.colab import drive\n",
        "drive.mount('/content/drive')"
      ],
      "metadata": {
        "colab": {
          "base_uri": "https://localhost:8080/"
        },
        "id": "guPMLPNPZEp_",
        "outputId": "58da7d6f-6d02-4ba1-9da0-e7697aed8024"
      },
      "id": "guPMLPNPZEp_",
      "execution_count": 1,
      "outputs": [
        {
          "output_type": "stream",
          "name": "stdout",
          "text": [
            "Mounted at /content/drive\n"
          ]
        }
      ]
    },
    {
      "cell_type": "markdown",
      "id": "53712a36",
      "metadata": {
        "id": "53712a36"
      },
      "source": [
        "---\n",
        "# Primer punto. Optimización de funciones con `SymPy` (37 puntos)\n",
        "\n",
        "**Costo mínimo**. Imagine dos contenedores cilíndricos sin tapa que deben satisfacer las siguientes condiciones:\n",
        "\n",
        "- El primer contenedor tiene el doble de altura que el segundo.\n",
        "- La altura del primer contenedor (el de mayor tamaño) es el doble de su radio.\n",
        "- El material para la base cuesta 10.00 MXN por cada $m^2$.\n",
        "- El material para los lados cuesta 6.00 MXN por cada $m^2$.\n",
        "\n",
        "¿Cuál es el costo del contenedor más barato?\n"
      ]
    },
    {
      "cell_type": "markdown",
      "id": "9913d3d8",
      "metadata": {
        "id": "9913d3d8"
      },
      "source": [
        "1. Escriba el volumen $V_1(r_1)$ y $V_2(r_2, r_1)$ de ambos contenedores como dos funciones distintas, donde $r_1$ es el radio del primer contenedor y $r_2$ es el radio del segundo. Realice este punto usando $\\LaTeX$ y celdas *Markdown*."
      ]
    },
    {
      "cell_type": "markdown",
      "id": "a387e2cb",
      "metadata": {
        "id": "a387e2cb"
      },
      "source": [
        "$$ V_1(r_1) = \\pi*r_1^2*2*r_1 = 2*\\pi*r_1^3 $$\n",
        "\n",
        "$$ V_2(r_2,r_1) = \\pi*r_2^2*r_1 $$\n"
      ]
    },
    {
      "cell_type": "markdown",
      "id": "ee04a16b",
      "metadata": {
        "id": "ee04a16b"
      },
      "source": [
        "2. Escriba el costo **C** de fabricar ambos contenedores como una función de los radios de las bases. Realice este punto usando $\\LaTeX$ y celdas *Markdown*."
      ]
    },
    {
      "cell_type": "markdown",
      "id": "fed271d9",
      "metadata": {
        "id": "fed271d9"
      },
      "source": [
        "$$ c_1 = (10*\\pi*r_1^2) + (6*2*\\pi*r_1*2*r_1) = (10*\\pi*r_1^2) + (24*\\pi*r_1^2)$$\n",
        "\n",
        "$$ c_2 = (10*\\pi*r_2^2) + (6*2*\\pi*r_2*r_1) = (10*\\pi*r_2^2) + (12*\\pi*r_1*r_2) $$\n",
        "\n",
        "$$ c_T = (10*\\pi*r_1^2) + (24*\\pi*r_1^2) + (10*\\pi*r_2^2) + (12*\\pi*r_1*r_2) $$\n",
        "$$ = 10*((\\pi*r_1^2) + (\\pi*r_2^2)) + 6*((4*\\pi*r_1^2) + (2*\\pi*r_1*r_2)) $$\n"
      ]
    },
    {
      "cell_type": "markdown",
      "id": "a1e58696",
      "metadata": {
        "id": "a1e58696"
      },
      "source": [
        "3. Determina las dimensiones de los contenedores si el volumen del contenedor pequeño debe ser de $12m^3$ y el costo debe ser mínimo."
      ]
    },
    {
      "cell_type": "code",
      "execution_count": 2,
      "id": "f4a7593c",
      "metadata": {
        "id": "f4a7593c",
        "colab": {
          "base_uri": "https://localhost:8080/",
          "height": 54
        },
        "outputId": "c92ad623-daa4-467b-c723-33fe6b97348e"
      },
      "outputs": [
        {
          "output_type": "execute_result",
          "data": {
            "text/plain": [
              "12/(pi*y**2)"
            ],
            "text/latex": "$\\displaystyle \\frac{12}{\\pi y^{2}}$"
          },
          "metadata": {},
          "execution_count": 2
        }
      ],
      "source": [
        "sp.var(\"x\")\n",
        "sp.var(\"y\")\n",
        "\n",
        "V2 = sp.pi * y**2 * x - 12\n",
        "x_desp = sp.solve(V2, x)[0]\n",
        "x_desp"
      ]
    },
    {
      "cell_type": "code",
      "execution_count": 3,
      "id": "d73359e2",
      "metadata": {
        "id": "d73359e2",
        "colab": {
          "base_uri": "https://localhost:8080/",
          "height": 54
        },
        "outputId": "6c90cf83-abbf-48a6-c542-b43a467fca9f"
      },
      "outputs": [
        {
          "output_type": "execute_result",
          "data": {
            "text/plain": [
              "10*pi*y**2 + 144/y + 4896/(pi*y**4)"
            ],
            "text/latex": "$\\displaystyle 10 \\pi y^{2} + \\frac{144}{y} + \\frac{4896}{\\pi y^{4}}$"
          },
          "metadata": {},
          "execution_count": 3
        }
      ],
      "source": [
        "CT = 10 * ((sp.pi * x**2) + (sp.pi * y**2)) + 6 * ((4 * sp.pi * x**2) + (2 * sp.pi * x * y))\n",
        "\n",
        "CT_sust = CT.subs(x, x_desp)\n",
        "CT_sust"
      ]
    },
    {
      "cell_type": "code",
      "execution_count": 4,
      "id": "28ac84fc",
      "metadata": {
        "id": "28ac84fc",
        "colab": {
          "base_uri": "https://localhost:8080/"
        },
        "outputId": "56b5425c-202e-4235-986e-116832a7844d"
      },
      "outputs": [
        {
          "output_type": "execute_result",
          "data": {
            "text/plain": [
              "[-5**(2/3)*(-18 + 6*sqrt(689))**(1/3)/(5*pi**(1/3)),\n",
              " 5**(2/3)*(18 + 6*sqrt(689))**(1/3)/(5*pi**(1/3)),\n",
              " 5**(2/3)*(-18 + 6*sqrt(689))**(1/3)/(10*pi**(1/3)) - sqrt(3)*5**(2/3)*I*(-18 + 6*sqrt(689))**(1/3)/(10*pi**(1/3)),\n",
              " 5**(2/3)*(-18 + 6*sqrt(689))**(1/3)/(10*pi**(1/3)) + sqrt(3)*5**(2/3)*I*(-18 + 6*sqrt(689))**(1/3)/(10*pi**(1/3)),\n",
              " -5**(2/3)*(18 + 6*sqrt(689))**(1/3)/(10*pi**(1/3)) - sqrt(3)*5**(2/3)*I*(18 + 6*sqrt(689))**(1/3)/(10*pi**(1/3)),\n",
              " -5**(2/3)*(18 + 6*sqrt(689))**(1/3)/(10*pi**(1/3)) + sqrt(3)*5**(2/3)*I*(18 + 6*sqrt(689))**(1/3)/(10*pi**(1/3))]"
            ]
          },
          "metadata": {},
          "execution_count": 4
        }
      ],
      "source": [
        "def CT(y):\n",
        "    return (10 * sp.pi * y**2) + (144 / y) + (4896 / (sp.pi * y**4))\n",
        "\n",
        "dCT = sp.diff(CT(y), y)\n",
        "pc = sp.solve(dCT, y)\n",
        "pc"
      ]
    },
    {
      "cell_type": "code",
      "source": [
        "ddCT = sp.diff(dCT, y)\n",
        "ddCT"
      ],
      "metadata": {
        "colab": {
          "base_uri": "https://localhost:8080/",
          "height": 54
        },
        "id": "quYVaZQOAR52",
        "outputId": "ded5680f-63cf-4819-b5c4-4dbadeac4335"
      },
      "id": "quYVaZQOAR52",
      "execution_count": 5,
      "outputs": [
        {
          "output_type": "execute_result",
          "data": {
            "text/plain": [
              "20*pi + 288/y**3 + 97920/(pi*y**6)"
            ],
            "text/latex": "$\\displaystyle 20 \\pi + \\frac{288}{y^{3}} + \\frac{97920}{\\pi y^{6}}$"
          },
          "metadata": {},
          "execution_count": 5
        }
      ]
    },
    {
      "cell_type": "code",
      "source": [
        "crit_2da_derivada = ddCT.subs(y, pc[1])\n",
        "\n",
        "if crit_2da_derivada < 0:\n",
        "    print(\"El punto crítico se encuentra en \" + str(pc[1]) + \" y es un máximo\")\n",
        "elif crit_2da_derivada > 0:\n",
        "    print(\"El punto crítico se encuentra en \" + str(pc[1]) + \" y es un mínimo\")\n",
        "else:\n",
        "    print(\"El punto crítico se encuentra en \" + str(pc[1]) + \" y no se puede definir por criterio de la segunda derivada si es un máximo o un mínimo\")"
      ],
      "metadata": {
        "colab": {
          "base_uri": "https://localhost:8080/"
        },
        "id": "yi3KnXM5DX5r",
        "outputId": "2eff5ffc-7d52-463b-e709-6be636b0a6a3"
      },
      "id": "yi3KnXM5DX5r",
      "execution_count": 6,
      "outputs": [
        {
          "output_type": "stream",
          "name": "stdout",
          "text": [
            "El punto crítico se encuentra en 5**(2/3)*(18 + 6*sqrt(689))**(1/3)/(5*pi**(1/3)) y es un mínimo\n"
          ]
        }
      ]
    },
    {
      "cell_type": "code",
      "source": [
        "xn = np.linspace(2, 2.5, 1000)\n",
        "\n",
        "plt.figure()\n",
        "plt.plot(xn, CT(xn))\n",
        "plt.plot(pc[1], CT(pc[1]), \".r\", ms=10)"
      ],
      "metadata": {
        "colab": {
          "base_uri": "https://localhost:8080/",
          "height": 447
        },
        "id": "z-kisxvw9j51",
        "outputId": "ec6076eb-7d62-4720-b7f1-eaf49b42e9da"
      },
      "id": "z-kisxvw9j51",
      "execution_count": 7,
      "outputs": [
        {
          "output_type": "execute_result",
          "data": {
            "text/plain": [
              "[<matplotlib.lines.Line2D at 0x7901d9fda770>]"
            ]
          },
          "metadata": {},
          "execution_count": 7
        },
        {
          "output_type": "display_data",
          "data": {
            "text/plain": [
              "<Figure size 640x480 with 1 Axes>"
            ],
            "image/png": "[encoded data removed]"
          },
          "metadata": {}
        }
      ]
    },
    {
      "cell_type": "code",
      "source": [
        "y_val = pc[1]\n",
        "\n",
        "x_val = x_desp.subs(y, y_val)\n",
        "\n",
        "print(\"Los cilindros deben de tener medidas de r1 = \" + str(float(x_val)) + \" y r2 = \" + str(float(y_val)))"
      ],
      "metadata": {
        "colab": {
          "base_uri": "https://localhost:8080/"
        },
        "id": "rAk4-4llEXXq",
        "outputId": "8edf7462-c727-410b-d9c0-aaec909df534"
      },
      "id": "rAk4-4llEXXq",
      "execution_count": 8,
      "outputs": [
        {
          "output_type": "stream",
          "name": "stdout",
          "text": [
            "Los cilindros deben de tener medidas de r1 = 0.7643137311179903 y r2 = 2.235526671726874\n"
          ]
        }
      ]
    },
    {
      "cell_type": "markdown",
      "id": "fec1be1e",
      "metadata": {
        "id": "fec1be1e"
      },
      "source": [
        "3. ¿Cuál fue el costo de fabricar este par de contenedores?"
      ]
    },
    {
      "cell_type": "code",
      "source": [
        "print(\"El costo de fabricar ambos contenedores es de $\" + str(float(CT(y_val))))"
      ],
      "metadata": {
        "colab": {
          "base_uri": "https://localhost:8080/"
        },
        "id": "kMx0g4IVslXP",
        "outputId": "40e88d72-0e2e-46a1-fc21-90668497947a"
      },
      "id": "kMx0g4IVslXP",
      "execution_count": 9,
      "outputs": [
        {
          "output_type": "stream",
          "name": "stdout",
          "text": [
            "El costo de fabricar ambos contenedores es de $283.8161489938861\n"
          ]
        }
      ]
    },
    {
      "cell_type": "markdown",
      "source": [
        "##### ***Me equivoqué en no hacer el problema. Creo que el pleamiento del problema era bastante confuso, y me llevó bastante tiempo analizarlo, para decidir que lo iba a dejar para despues, cuando realmente no tuve más tiempo después porque me atoré con el último problema. Lo que debería de hacer es no tardarme tanto con el análisis de los problemas. Si no se como hacerlo me salto al siguiente y al final vuelvo a ese.**"
      ],
      "metadata": {
        "id": "2Dtr9rkSYRPl"
      },
      "id": "2Dtr9rkSYRPl"
    },
    {
      "cell_type": "markdown",
      "id": "4eeff9c8",
      "metadata": {
        "id": "4eeff9c8"
      },
      "source": [
        "---\n",
        "# Segundo punto. Programación lineal (37 puntos)"
      ]
    },
    {
      "cell_type": "markdown",
      "id": "8013ca31",
      "metadata": {
        "id": "8013ca31"
      },
      "source": [
        "Una empresa se dedica a fabricar tarjetas de control para automóviles, y están en su momento de planeación de compras anuales. Hay 5 proveedores que pueden proveer los componentes, cada uno a su propio precio."
      ]
    },
    {
      "cell_type": "markdown",
      "id": "f41253d2",
      "metadata": {
        "id": "f41253d2"
      },
      "source": [
        "<table>\n",
        "  <tr>\n",
        "      <th>  </th>\n",
        "      <th>Proveedor 1</th>\n",
        "      <th>Proveedor 2</th>\n",
        "      <th>Proveedor 3</th>\n",
        "      <th>Demanda</th>\n",
        "  </tr>\n",
        "  <tr>\n",
        "      <th>Componente 1</th>\n",
        "      <td>0.5</td>\n",
        "      <td>0.6</td>\n",
        "      <td>0.7</td>\n",
        "      <td>15000</td>\n",
        "  </tr>\n",
        "  <tr style=\"border-bottom: 1px solid #000;\">\n",
        "      <th>Componente 2</th>\n",
        "      <td>0.7</td>\n",
        "      <td>0.5</td>\n",
        "      <td>0.6</td>\n",
        "      <td>20000</td>\n",
        "  </tr>\n",
        "  <tr style=\"border-bottom: 1px solid #000;\">\n",
        "      <th>Componente 3</th>\n",
        "      <td>0.32</td>\n",
        "      <td>0.54</td>\n",
        "      <td>0.8</td>\n",
        "      <td>12000</td>\n",
        "  </tr>\n",
        "\n",
        "  <tr style=\"border-bottom: 1px solid #000;\">\n",
        "      <th>Capacidad</th>\n",
        "      <td> 21000 </td>\n",
        "      <td> 16000 </td>\n",
        "      <td> 16000 </td>\n",
        "      <td>  </td>\n",
        "  </tr>\n",
        "</table>"
      ]
    },
    {
      "cell_type": "markdown",
      "id": "48d6c967",
      "metadata": {
        "id": "48d6c967"
      },
      "source": [
        "El proveedor tiene restricciones de capacidad de fabricación del tipo de componentes, por lo que un proveedor no puede satisfacer nuestra demanda completa para cada componente."
      ]
    },
    {
      "cell_type": "markdown",
      "id": "85e307ae",
      "metadata": {
        "id": "85e307ae"
      },
      "source": [
        "Se desea conocer la cantidad que se debe comprar de cada componente a cada proveedor para gastar la menor cantidad de dinero posible, pero al mismo tiempo lograr satisfacer la demanda para poder continuar con la manufactura del producto."
      ]
    },
    {
      "cell_type": "markdown",
      "id": "df55a736",
      "metadata": {
        "id": "df55a736"
      },
      "source": [
        "1. Escriba la función a **minimizar** junto con las restricciones, explicando detalladamente cada paso (usando fórmulas en $\\LaTeX$, en celdas Markdown). Además escriba el problema en la forma \\begin{equation}\n",
        "\\begin{array}{ll}\n",
        "\\min_{\\boldsymbol{x}} & \\boldsymbol{c}^T\\boldsymbol{x} \\\\\n",
        "\\text{s. a. }        & \\boldsymbol{A}_{eq}\\boldsymbol{x}=\\boldsymbol{b}_{eq} \\\\\n",
        "                     & \\boldsymbol{A}\\boldsymbol{x}\\leq\\boldsymbol{b},\n",
        "\\end{array}\\qquad\\text{(23 puntos)}\n",
        "\\end{equation}"
      ]
    },
    {
      "cell_type": "markdown",
      "id": "04ce36d6",
      "metadata": {
        "id": "04ce36d6"
      },
      "source": [
        "1. Criterio de optimización\n",
        "    - Minimizar\n",
        "2. Variables sobre las cuales tengo control\n",
        "    - $x_1:$ Cantidad a surtir de provedor 1 sobre componente 1\n",
        "    - $x_2:$ Cantidad a surtir de provedor 1 sobre componente 2\n",
        "    - $x_3:$ Cantidad a surtir de provedor 1 sobre componente 3\n",
        "    - $x_4:$ Cantidad a surtir de provedor 2 sobre componente 1\n",
        "    - $x_5:$ Cantidad a surtir de provedor 2 sobre componente 2\n",
        "    - $x_6:$ Cantidad a surtir de provedor 2 sobre componente 3\n",
        "    - $x_7:$ Cantidad a surtir de provedor 3 sobre componente 1\n",
        "    - $x_8:$ Cantidad a surtir de provedor 3 sobre componente 2\n",
        "    - $x_9:$ Cantidad a surtir de provedor 3 sobre componente 3\n",
        "3. Función de costos\n",
        "$$ 0.5x_1 +  0.7x_2 + 0.32x_3 + 0.6x_4 + 0.5x_5 + 0.54x_6 + 0.7x_7  + 0.6x_8 + 0.8x_9 = costo $$\n",
        "4. Restricciones\n",
        "    - Capacidad de abasto provedor 1\n",
        "        - $ 1x_1 +  1x_2 + 1x_3 + 0x_4 + 0x_5 + 0x_6 + 0x_7  + 0x_8 + 0x_9 \\leq 21000 $\n",
        "    - Capacidad de abasto provedor 2\n",
        "        - $ 0x_1 +  0x_2 + 0x_3 + 1x_4 + 1x_5 + 1x_6 + 0x_7  + 0x_8 + 0x_9 \\leq 16000 $\n",
        "    - Capacidad de abasto provedor 3\n",
        "        - $ 0x_1 +  0x_2 + 0x_3 + 0x_4 + 0x_5 + 0x_6 + 1x_7  + 1x_8 + 1x_9 \\leq 16000 $\n",
        "    - Demanda de componente 1\n",
        "        - $ 1x_1 +  0x_2 + 0x_3 + 1x_4 + 0x_5 + 0x_6 + 1x_7  + 0x_8 + 0x_9 = 15000 $\n",
        "    - Demanda de componente 2\n",
        "        - $ 0x_1 +  1x_2 + 0x_3 + 0x_4 + 1x_5 + 0x_6 + 0x_7  + 1x_8 + 0x_9 = 20000 $\n",
        "    - Demanda de componente 3\n",
        "        - $ 0x_1 +  0x_2 + 1x_3 + 0x_4 + 0x_5 + 1x_6 + 0x_7  + 0x_8 + 1x_9 = 12000 $"
      ]
    },
    {
      "cell_type": "markdown",
      "id": "6c1e3c9a",
      "metadata": {
        "id": "6c1e3c9a"
      },
      "source": [
        "2. Resuelva el problema utilizando la función `linprog`. ¿Cómo debe ser la distribución de compras? ¿Cuánto dinero se necesita para satisfacer la demanda? (10 puntos)"
      ]
    },
    {
      "cell_type": "code",
      "execution_count": 10,
      "id": "d321188e",
      "metadata": {
        "colab": {
          "base_uri": "https://localhost:8080/"
        },
        "id": "d321188e",
        "outputId": "0471016c-b695-40ff-8d48-e180aba97dea"
      },
      "outputs": [
        {
          "output_type": "execute_result",
          "data": {
            "text/plain": [
              "array([ 9000.,     0., 12000.,     0., 16000.,     0.,  6000.,  4000.,\n",
              "           0.])"
            ]
          },
          "metadata": {},
          "execution_count": 10
        }
      ],
      "source": [
        "c = np.array([0.50,\n",
        "              0.70,\n",
        "              0.32,\n",
        "              0.60,\n",
        "              0.50,\n",
        "              0.54,\n",
        "              0.70,\n",
        "              0.60,\n",
        "              8.80])\n",
        "\n",
        "Aub = np.array([\n",
        "    [1, 1, 1, 0, 0, 0, 0, 0, 0],\n",
        "    [0, 0, 0, 1, 1, 1, 0, 0, 0],\n",
        "    [0, 0, 0, 0, 0, 0, 1, 1, 1]\n",
        "])\n",
        "\n",
        "Aeq = np.array([\n",
        "    [1, 0, 0, 1, 0, 0, 1, 0, 0],\n",
        "    [0, 1, 0, 0, 1, 0, 0, 1, 0],\n",
        "    [0, 0, 1, 0, 0, 1, 0, 0, 1]\n",
        "])\n",
        "\n",
        "bub = np.array([21000,\n",
        "                16000,\n",
        "                16000])\n",
        "\n",
        "beq = np.array([15000,\n",
        "                20000,\n",
        "                12000])\n",
        "\n",
        "res = opt.linprog(c, Aub, bub, Aeq, beq)\n",
        "res.x"
      ]
    },
    {
      "cell_type": "code",
      "source": [
        "res.fun"
      ],
      "metadata": {
        "colab": {
          "base_uri": "https://localhost:8080/"
        },
        "id": "9LtYhSlDYrZo",
        "outputId": "2acf90be-cef2-4941-d9a4-588531069c80"
      },
      "id": "9LtYhSlDYrZo",
      "execution_count": 23,
      "outputs": [
        {
          "output_type": "execute_result",
          "data": {
            "text/plain": [
              "22940.0"
            ]
          },
          "metadata": {},
          "execution_count": 23
        }
      ]
    },
    {
      "cell_type": "markdown",
      "source": [
        "Se necesitan:\n",
        "\n",
        "- 9000 componentes 1 del productor 1\n",
        "- 12000 componentes 3 del productor 1\n",
        "- 16000 componentes 2 del productor 2\n",
        "- 6000 componentes 1 del productor 3\n",
        "- 4000 componentes 2 del productor 3\n",
        "- $\\$22,940$ para sattizfacer la demanda"
      ],
      "metadata": {
        "id": "gBu9jrKSercF"
      },
      "id": "gBu9jrKSercF"
    },
    {
      "cell_type": "markdown",
      "source": [
        "##### ***Me faltó escribir la cantidad de dinero necesaria para satisfacer la demanda. No leí bien las instrucciones por la prisa del examen.**"
      ],
      "metadata": {
        "id": "gV3SXubNZdVJ"
      },
      "id": "gV3SXubNZdVJ"
    },
    {
      "cell_type": "markdown",
      "id": "5663a48b",
      "metadata": {
        "id": "5663a48b"
      },
      "source": [
        "# Tercer punto. Ajuste de curvas (36 puntos)\n",
        "\n",
        "Utiliza el archivo adjunto en Canvas en el apartado que corresponde al examen."
      ]
    },
    {
      "cell_type": "markdown",
      "id": "c673e9e6",
      "metadata": {
        "id": "c673e9e6"
      },
      "source": [
        "Escribe tu número de expediente:"
      ]
    },
    {
      "cell_type": "markdown",
      "source": [
        "745345"
      ],
      "metadata": {
        "id": "m5GMt54ofg65"
      },
      "id": "m5GMt54ofg65"
    },
    {
      "cell_type": "markdown",
      "id": "da3c6c2e",
      "metadata": {
        "id": "da3c6c2e"
      },
      "source": [
        "Lee el archivo y extrae la siguiente información:\n",
        "- $x$ es la primer columna del archivo\n",
        "- $y$ es la columna correspondiente a los últimos dos dígitos de tu número de expediente + 1. E.g. mi expediente es $693871$; por lo tanto, debo usar la columna $72$."
      ]
    },
    {
      "cell_type": "code",
      "execution_count": 11,
      "id": "46fbbaf5",
      "metadata": {
        "colab": {
          "base_uri": "https://localhost:8080/",
          "height": 443
        },
        "id": "46fbbaf5",
        "outputId": "528d4cde-e02f-4b1f-ac8c-d198121d6abf"
      },
      "outputs": [
        {
          "output_type": "execute_result",
          "data": {
            "text/plain": [
              "          0          1          2         3          4          5    \\\n",
              "0    0.000000   4.983091   3.769339  5.594828   6.429803   4.511528   \n",
              "1    0.002002   3.614394   2.396633  4.225133   5.058559   3.141485   \n",
              "2    0.004004   4.188195   2.966396  4.797931   5.629813   3.713902   \n",
              "3    0.006006   5.445592   4.219727  6.054320   6.884664   4.969878   \n",
              "4    0.008008   5.067521   3.837561  5.675236   6.504048   4.590350   \n",
              "..        ...        ...        ...       ...        ...        ...   \n",
              "995  1.991992 -37.621743 -26.216957  2.179613  34.525805 -81.587062   \n",
              "996  1.993994 -38.413531 -26.940495  1.526510  34.067619 -82.481098   \n",
              "997  1.995996 -38.302053 -26.760562  1.777022  34.513839 -82.472001   \n",
              "998  1.997998 -39.725567 -28.115414  0.492894  33.426211 -83.998028   \n",
              "999  2.000000 -39.118378 -27.439358  1.239819  34.370429 -83.493487   \n",
              "\n",
              "           6          7          8          9    ...        91         92   \\\n",
              "0     6.706383   2.911751  -2.864652  -3.093433  ...   6.667738   5.885562   \n",
              "1     5.346220   1.538843  -4.236502  -4.464649  ...   5.312463   4.525002   \n",
              "2     5.928572   2.108423  -3.665847  -3.893386  ...   5.899704   5.106895   \n",
              "3     7.194535   3.361588  -2.411586  -2.638543  ...   7.170558   6.372337   \n",
              "4     6.825046   2.979275  -2.792786  -3.019186  ...   6.805961   6.002265   \n",
              "..         ...        ...        ...        ...  ...        ...        ...   \n",
              "995  44.262737  22.788572  58.082286 -69.526880  ... -57.907315 -30.282534   \n",
              "996  43.789529  22.302350  57.727557 -70.383159  ... -58.823098 -31.021199   \n",
              "997  44.220604  22.720442  58.277463 -70.336305  ... -58.835998 -30.856352   \n",
              "998  43.117706  21.604596  57.293749 -71.824574  ... -60.384272 -32.226251   \n",
              "999  44.046532  22.520505  58.342113 -71.282274  ... -59.902228 -31.565200   \n",
              "\n",
              "          93          94         95          96         97        98   \\\n",
              "0   -2.052453   -2.984045   5.750429    2.135754  -1.234049  3.500585   \n",
              "1   -3.410375   -4.346935   4.396159    0.773647  -2.607035  2.130640   \n",
              "2   -2.825807   -3.767381   4.984377    1.354042  -2.037531  2.703165   \n",
              "3   -1.557653   -2.504284   6.256181    2.618039  -0.784438  3.959257   \n",
              "4   -1.924977   -2.876709   5.892506    2.246572  -1.166821  3.579851   \n",
              "..        ...         ...        ...         ...        ...       ...   \n",
              "995  2.509291 -114.436776  14.101042  109.678623  11.649459  0.666863   \n",
              "996  1.898045 -115.441524  13.503160  109.438779  11.124500  0.086051   \n",
              "997  2.190637 -115.543472  13.809172  110.103751  11.503708  0.409258   \n",
              "998  0.948811 -117.180880  12.580823  109.235287  10.348831 -0.801770   \n",
              "999  1.738263 -116.788054  13.383808  110.399081  11.225562  0.018661   \n",
              "\n",
              "           99         100  \n",
              "0     3.206284  -2.015092  \n",
              "1     1.840478  -3.376963  \n",
              "2     2.417138  -2.796368  \n",
              "3     3.677362  -1.532206  \n",
              "4     3.302087  -1.903542  \n",
              "..         ...        ...  \n",
              "995  27.882475  93.843512  \n",
              "996  27.430621  93.598580  \n",
              "997  27.883253  94.258542  \n",
              "998  26.802116  93.385145  \n",
              "999  27.752907  94.544086  \n",
              "\n",
              "[1000 rows x 101 columns]"
            ],
            "text/html": [
              "\n",
              "  <div id=\"df-d7a7069d-5546-4ea0-8404-6662babc3dcc\" class=\"colab-df-container\">\n",
              "    <div>\n",
              "<style scoped>\n",
              "    .dataframe tbody tr th:only-of-type {\n",
              "        vertical-align: middle;\n",
              "    }\n",
              "\n",
              "    .dataframe tbody tr th {\n",
              "        vertical-align: top;\n",
              "    }\n",
              "\n",
              "    .dataframe thead th {\n",
              "        text-align: right;\n",
              "    }\n",
              "</style>\n",
              "<table border=\"1\" class=\"dataframe\">\n",
              "  <thead>\n",
              "    <tr style=\"text-align: right;\">\n",
              "      <th></th>\n",
              "      <th>0</th>\n",
              "      <th>1</th>\n",
              "      <th>2</th>\n",
              "      <th>3</th>\n",
              "      <th>4</th>\n",
              "      <th>5</th>\n",
              "      <th>6</th>\n",
              "      <th>7</th>\n",
              "      <th>8</th>\n",
              "      <th>9</th>\n",
              "      <th>...</th>\n",
              "      <th>91</th>\n",
              "      <th>92</th>\n",
              "      <th>93</th>\n",
              "      <th>94</th>\n",
              "      <th>95</th>\n",
              "      <th>96</th>\n",
              "      <th>97</th>\n",
              "      <th>98</th>\n",
              "      <th>99</th>\n",
              "      <th>100</th>\n",
              "    </tr>\n",
              "  </thead>\n",
              "  <tbody>\n",
              "    <tr>\n",
              "      <th>0</th>\n",
              "      <td>0.000000</td>\n",
              "      <td>4.983091</td>\n",
              "      <td>3.769339</td>\n",
              "      <td>5.594828</td>\n",
              "      <td>6.429803</td>\n",
              "      <td>4.511528</td>\n",
              "      <td>6.706383</td>\n",
              "      <td>2.911751</td>\n",
              "      <td>-2.864652</td>\n",
              "      <td>-3.093433</td>\n",
              "      <td>...</td>\n",
              "      <td>6.667738</td>\n",
              "      <td>5.885562</td>\n",
              "      <td>-2.052453</td>\n",
              "      <td>-2.984045</td>\n",
              "      <td>5.750429</td>\n",
              "      <td>2.135754</td>\n",
              "      <td>-1.234049</td>\n",
              "      <td>3.500585</td>\n",
              "      <td>3.206284</td>\n",
              "      <td>-2.015092</td>\n",
              "    </tr>\n",
              "    <tr>\n",
              "      <th>1</th>\n",
              "      <td>0.002002</td>\n",
              "      <td>3.614394</td>\n",
              "      <td>2.396633</td>\n",
              "      <td>4.225133</td>\n",
              "      <td>5.058559</td>\n",
              "      <td>3.141485</td>\n",
              "      <td>5.346220</td>\n",
              "      <td>1.538843</td>\n",
              "      <td>-4.236502</td>\n",
              "      <td>-4.464649</td>\n",
              "      <td>...</td>\n",
              "      <td>5.312463</td>\n",
              "      <td>4.525002</td>\n",
              "      <td>-3.410375</td>\n",
              "      <td>-4.346935</td>\n",
              "      <td>4.396159</td>\n",
              "      <td>0.773647</td>\n",
              "      <td>-2.607035</td>\n",
              "      <td>2.130640</td>\n",
              "      <td>1.840478</td>\n",
              "      <td>-3.376963</td>\n",
              "    </tr>\n",
              "    <tr>\n",
              "      <th>2</th>\n",
              "      <td>0.004004</td>\n",
              "      <td>4.188195</td>\n",
              "      <td>2.966396</td>\n",
              "      <td>4.797931</td>\n",
              "      <td>5.629813</td>\n",
              "      <td>3.713902</td>\n",
              "      <td>5.928572</td>\n",
              "      <td>2.108423</td>\n",
              "      <td>-3.665847</td>\n",
              "      <td>-3.893386</td>\n",
              "      <td>...</td>\n",
              "      <td>5.899704</td>\n",
              "      <td>5.106895</td>\n",
              "      <td>-2.825807</td>\n",
              "      <td>-3.767381</td>\n",
              "      <td>4.984377</td>\n",
              "      <td>1.354042</td>\n",
              "      <td>-2.037531</td>\n",
              "      <td>2.703165</td>\n",
              "      <td>2.417138</td>\n",
              "      <td>-2.796368</td>\n",
              "    </tr>\n",
              "    <tr>\n",
              "      <th>3</th>\n",
              "      <td>0.006006</td>\n",
              "      <td>5.445592</td>\n",
              "      <td>4.219727</td>\n",
              "      <td>6.054320</td>\n",
              "      <td>6.884664</td>\n",
              "      <td>4.969878</td>\n",
              "      <td>7.194535</td>\n",
              "      <td>3.361588</td>\n",
              "      <td>-2.411586</td>\n",
              "      <td>-2.638543</td>\n",
              "      <td>...</td>\n",
              "      <td>7.170558</td>\n",
              "      <td>6.372337</td>\n",
              "      <td>-1.557653</td>\n",
              "      <td>-2.504284</td>\n",
              "      <td>6.256181</td>\n",
              "      <td>2.618039</td>\n",
              "      <td>-0.784438</td>\n",
              "      <td>3.959257</td>\n",
              "      <td>3.677362</td>\n",
              "      <td>-1.532206</td>\n",
              "    </tr>\n",
              "    <tr>\n",
              "      <th>4</th>\n",
              "      <td>0.008008</td>\n",
              "      <td>5.067521</td>\n",
              "      <td>3.837561</td>\n",
              "      <td>5.675236</td>\n",
              "      <td>6.504048</td>\n",
              "      <td>4.590350</td>\n",
              "      <td>6.825046</td>\n",
              "      <td>2.979275</td>\n",
              "      <td>-2.792786</td>\n",
              "      <td>-3.019186</td>\n",
              "      <td>...</td>\n",
              "      <td>6.805961</td>\n",
              "      <td>6.002265</td>\n",
              "      <td>-1.924977</td>\n",
              "      <td>-2.876709</td>\n",
              "      <td>5.892506</td>\n",
              "      <td>2.246572</td>\n",
              "      <td>-1.166821</td>\n",
              "      <td>3.579851</td>\n",
              "      <td>3.302087</td>\n",
              "      <td>-1.903542</td>\n",
              "    </tr>\n",
              "    <tr>\n",
              "      <th>...</th>\n",
              "      <td>...</td>\n",
              "      <td>...</td>\n",
              "      <td>...</td>\n",
              "      <td>...</td>\n",
              "      <td>...</td>\n",
              "      <td>...</td>\n",
              "      <td>...</td>\n",
              "      <td>...</td>\n",
              "      <td>...</td>\n",
              "      <td>...</td>\n",
              "      <td>...</td>\n",
              "      <td>...</td>\n",
              "      <td>...</td>\n",
              "      <td>...</td>\n",
              "      <td>...</td>\n",
              "      <td>...</td>\n",
              "      <td>...</td>\n",
              "      <td>...</td>\n",
              "      <td>...</td>\n",
              "      <td>...</td>\n",
              "      <td>...</td>\n",
              "    </tr>\n",
              "    <tr>\n",
              "      <th>995</th>\n",
              "      <td>1.991992</td>\n",
              "      <td>-37.621743</td>\n",
              "      <td>-26.216957</td>\n",
              "      <td>2.179613</td>\n",
              "      <td>34.525805</td>\n",
              "      <td>-81.587062</td>\n",
              "      <td>44.262737</td>\n",
              "      <td>22.788572</td>\n",
              "      <td>58.082286</td>\n",
              "      <td>-69.526880</td>\n",
              "      <td>...</td>\n",
              "      <td>-57.907315</td>\n",
              "      <td>-30.282534</td>\n",
              "      <td>2.509291</td>\n",
              "      <td>-114.436776</td>\n",
              "      <td>14.101042</td>\n",
              "      <td>109.678623</td>\n",
              "      <td>11.649459</td>\n",
              "      <td>0.666863</td>\n",
              "      <td>27.882475</td>\n",
              "      <td>93.843512</td>\n",
              "    </tr>\n",
              "    <tr>\n",
              "      <th>996</th>\n",
              "      <td>1.993994</td>\n",
              "      <td>-38.413531</td>\n",
              "      <td>-26.940495</td>\n",
              "      <td>1.526510</td>\n",
              "      <td>34.067619</td>\n",
              "      <td>-82.481098</td>\n",
              "      <td>43.789529</td>\n",
              "      <td>22.302350</td>\n",
              "      <td>57.727557</td>\n",
              "      <td>-70.383159</td>\n",
              "      <td>...</td>\n",
              "      <td>-58.823098</td>\n",
              "      <td>-31.021199</td>\n",
              "      <td>1.898045</td>\n",
              "      <td>-115.441524</td>\n",
              "      <td>13.503160</td>\n",
              "      <td>109.438779</td>\n",
              "      <td>11.124500</td>\n",
              "      <td>0.086051</td>\n",
              "      <td>27.430621</td>\n",
              "      <td>93.598580</td>\n",
              "    </tr>\n",
              "    <tr>\n",
              "      <th>997</th>\n",
              "      <td>1.995996</td>\n",
              "      <td>-38.302053</td>\n",
              "      <td>-26.760562</td>\n",
              "      <td>1.777022</td>\n",
              "      <td>34.513839</td>\n",
              "      <td>-82.472001</td>\n",
              "      <td>44.220604</td>\n",
              "      <td>22.720442</td>\n",
              "      <td>58.277463</td>\n",
              "      <td>-70.336305</td>\n",
              "      <td>...</td>\n",
              "      <td>-58.835998</td>\n",
              "      <td>-30.856352</td>\n",
              "      <td>2.190637</td>\n",
              "      <td>-115.543472</td>\n",
              "      <td>13.809172</td>\n",
              "      <td>110.103751</td>\n",
              "      <td>11.503708</td>\n",
              "      <td>0.409258</td>\n",
              "      <td>27.883253</td>\n",
              "      <td>94.258542</td>\n",
              "    </tr>\n",
              "    <tr>\n",
              "      <th>998</th>\n",
              "      <td>1.997998</td>\n",
              "      <td>-39.725567</td>\n",
              "      <td>-28.115414</td>\n",
              "      <td>0.492894</td>\n",
              "      <td>33.426211</td>\n",
              "      <td>-83.998028</td>\n",
              "      <td>43.117706</td>\n",
              "      <td>21.604596</td>\n",
              "      <td>57.293749</td>\n",
              "      <td>-71.824574</td>\n",
              "      <td>...</td>\n",
              "      <td>-60.384272</td>\n",
              "      <td>-32.226251</td>\n",
              "      <td>0.948811</td>\n",
              "      <td>-117.180880</td>\n",
              "      <td>12.580823</td>\n",
              "      <td>109.235287</td>\n",
              "      <td>10.348831</td>\n",
              "      <td>-0.801770</td>\n",
              "      <td>26.802116</td>\n",
              "      <td>93.385145</td>\n",
              "    </tr>\n",
              "    <tr>\n",
              "      <th>999</th>\n",
              "      <td>2.000000</td>\n",
              "      <td>-39.118378</td>\n",
              "      <td>-27.439358</td>\n",
              "      <td>1.239819</td>\n",
              "      <td>34.370429</td>\n",
              "      <td>-83.493487</td>\n",
              "      <td>44.046532</td>\n",
              "      <td>22.520505</td>\n",
              "      <td>58.342113</td>\n",
              "      <td>-71.282274</td>\n",
              "      <td>...</td>\n",
              "      <td>-59.902228</td>\n",
              "      <td>-31.565200</td>\n",
              "      <td>1.738263</td>\n",
              "      <td>-116.788054</td>\n",
              "      <td>13.383808</td>\n",
              "      <td>110.399081</td>\n",
              "      <td>11.225562</td>\n",
              "      <td>0.018661</td>\n",
              "      <td>27.752907</td>\n",
              "      <td>94.544086</td>\n",
              "    </tr>\n",
              "  </tbody>\n",
              "</table>\n",
              "<p>1000 rows × 101 columns</p>\n",
              "</div>\n",
              "    <div class=\"colab-df-buttons\">\n",
              "\n",
              "  <div class=\"colab-df-container\">\n",
              "    <button class=\"colab-df-convert\" onclick=\"convertToInteractive('df-d7a7069d-5546-4ea0-8404-6662babc3dcc')\"\n",
              "            title=\"Convert this dataframe to an interactive table.\"\n",
              "            style=\"display:none;\">\n",
              "\n",
              "  <svg xmlns=\"http://www.w3.org/2000/svg\" height=\"24px\" viewBox=\"0 -960 960 960\">\n",
              "    <path d=\"M120-120v-720h720v720H120Zm60-500h600v-160H180v160Zm220 220h160v-160H400v160Zm0 220h160v-160H400v160ZM180-400h160v-160H180v160Zm440 0h160v-160H620v160ZM180-180h160v-160H180v160Zm440 0h160v-160H620v160Z\"/>\n",
              "  </svg>\n",
              "    </button>\n",
              "\n",
              "  <style>\n",
              "    .colab-df-container {\n",
              "      display:flex;\n",
              "      gap: 12px;\n",
              "    }\n",
              "\n",
              "    .colab-df-convert {\n",
              "      background-color: #E8F0FE;\n",
              "      border: none;\n",
              "      border-radius: 50%;\n",
              "      cursor: pointer;\n",
              "      display: none;\n",
              "      fill: #1967D2;\n",
              "      height: 32px;\n",
              "      padding: 0 0 0 0;\n",
              "      width: 32px;\n",
              "    }\n",
              "\n",
              "    .colab-df-convert:hover {\n",
              "      background-color: #E2EBFA;\n",
              "      box-shadow: 0px 1px 2px rgba(60, 64, 67, 0.3), 0px 1px 3px 1px rgba(60, 64, 67, 0.15);\n",
              "      fill: #174EA6;\n",
              "    }\n",
              "\n",
              "    .colab-df-buttons div {\n",
              "      margin-bottom: 4px;\n",
              "    }\n",
              "\n",
              "    [theme=dark] .colab-df-convert {\n",
              "      background-color: #3B4455;\n",
              "      fill: #D2E3FC;\n",
              "    }\n",
              "\n",
              "    [theme=dark] .colab-df-convert:hover {\n",
              "      background-color: #434B5C;\n",
              "      box-shadow: 0px 1px 3px 1px rgba(0, 0, 0, 0.15);\n",
              "      filter: drop-shadow(0px 1px 2px rgba(0, 0, 0, 0.3));\n",
              "      fill: #FFFFFF;\n",
              "    }\n",
              "  </style>\n",
              "\n",
              "    <script>\n",
              "      const buttonEl =\n",
              "        document.querySelector('#df-d7a7069d-5546-4ea0-8404-6662babc3dcc button.colab-df-convert');\n",
              "      buttonEl.style.display =\n",
              "        google.colab.kernel.accessAllowed ? 'block' : 'none';\n",
              "\n",
              "      async function convertToInteractive(key) {\n",
              "        const element = document.querySelector('#df-d7a7069d-5546-4ea0-8404-6662babc3dcc');\n",
              "        const dataTable =\n",
              "          await google.colab.kernel.invokeFunction('convertToInteractive',\n",
              "                                                    [key], {});\n",
              "        if (!dataTable) return;\n",
              "\n",
              "        const docLinkHtml = 'Like what you see? Visit the ' +\n",
              "          '<a target=\"_blank\" href=https://colab.research.google.com/notebooks/data_table.ipynb>data table notebook</a>'\n",
              "          + ' to learn more about interactive tables.';\n",
              "        element.innerHTML = '';\n",
              "        dataTable['output_type'] = 'display_data';\n",
              "        await google.colab.output.renderOutput(dataTable, element);\n",
              "        const docLink = document.createElement('div');\n",
              "        docLink.innerHTML = docLinkHtml;\n",
              "        element.appendChild(docLink);\n",
              "      }\n",
              "    </script>\n",
              "  </div>\n",
              "\n",
              "\n",
              "<div id=\"df-a258fda4-7e9f-468d-868a-2c96e29acae0\">\n",
              "  <button class=\"colab-df-quickchart\" onclick=\"quickchart('df-a258fda4-7e9f-468d-868a-2c96e29acae0')\"\n",
              "            title=\"Suggest charts.\"\n",
              "            style=\"display:none;\">\n",
              "\n",
              "<svg xmlns=\"http://www.w3.org/2000/svg\" height=\"24px\"viewBox=\"0 0 24 24\"\n",
              "     width=\"24px\">\n",
              "    <g>\n",
              "        <path d=\"M19 3H5c-1.1 0-2 .9-2 2v14c0 1.1.9 2 2 2h14c1.1 0 2-.9 2-2V5c0-1.1-.9-2-2-2zM9 17H7v-7h2v7zm4 0h-2V7h2v10zm4 0h-2v-4h2v4z\"/>\n",
              "    </g>\n",
              "</svg>\n",
              "  </button>\n",
              "\n",
              "<style>\n",
              "  .colab-df-quickchart {\n",
              "      --bg-color: #E8F0FE;\n",
              "      --fill-color: #1967D2;\n",
              "      --hover-bg-color: #E2EBFA;\n",
              "      --hover-fill-color: #174EA6;\n",
              "      --disabled-fill-color: #AAA;\n",
              "      --disabled-bg-color: #DDD;\n",
              "  }\n",
              "\n",
              "  [theme=dark] .colab-df-quickchart {\n",
              "      --bg-color: #3B4455;\n",
              "      --fill-color: #D2E3FC;\n",
              "      --hover-bg-color: #434B5C;\n",
              "      --hover-fill-color: #FFFFFF;\n",
              "      --disabled-bg-color: #3B4455;\n",
              "      --disabled-fill-color: #666;\n",
              "  }\n",
              "\n",
              "  .colab-df-quickchart {\n",
              "    background-color: var(--bg-color);\n",
              "    border: none;\n",
              "    border-radius: 50%;\n",
              "    cursor: pointer;\n",
              "    display: none;\n",
              "    fill: var(--fill-color);\n",
              "    height: 32px;\n",
              "    padding: 0;\n",
              "    width: 32px;\n",
              "  }\n",
              "\n",
              "  .colab-df-quickchart:hover {\n",
              "    background-color: var(--hover-bg-color);\n",
              "    box-shadow: 0 1px 2px rgba(60, 64, 67, 0.3), 0 1px 3px 1px rgba(60, 64, 67, 0.15);\n",
              "    fill: var(--button-hover-fill-color);\n",
              "  }\n",
              "\n",
              "  .colab-df-quickchart-complete:disabled,\n",
              "  .colab-df-quickchart-complete:disabled:hover {\n",
              "    background-color: var(--disabled-bg-color);\n",
              "    fill: var(--disabled-fill-color);\n",
              "    box-shadow: none;\n",
              "  }\n",
              "\n",
              "  .colab-df-spinner {\n",
              "    border: 2px solid var(--fill-color);\n",
              "    border-color: transparent;\n",
              "    border-bottom-color: var(--fill-color);\n",
              "    animation:\n",
              "      spin 1s steps(1) infinite;\n",
              "  }\n",
              "\n",
              "  @keyframes spin {\n",
              "    0% {\n",
              "      border-color: transparent;\n",
              "      border-bottom-color: var(--fill-color);\n",
              "      border-left-color: var(--fill-color);\n",
              "    }\n",
              "    20% {\n",
              "      border-color: transparent;\n",
              "      border-left-color: var(--fill-color);\n",
              "      border-top-color: var(--fill-color);\n",
              "    }\n",
              "    30% {\n",
              "      border-color: transparent;\n",
              "      border-left-color: var(--fill-color);\n",
              "      border-top-color: var(--fill-color);\n",
              "      border-right-color: var(--fill-color);\n",
              "    }\n",
              "    40% {\n",
              "      border-color: transparent;\n",
              "      border-right-color: var(--fill-color);\n",
              "      border-top-color: var(--fill-color);\n",
              "    }\n",
              "    60% {\n",
              "      border-color: transparent;\n",
              "      border-right-color: var(--fill-color);\n",
              "    }\n",
              "    80% {\n",
              "      border-color: transparent;\n",
              "      border-right-color: var(--fill-color);\n",
              "      border-bottom-color: var(--fill-color);\n",
              "    }\n",
              "    90% {\n",
              "      border-color: transparent;\n",
              "      border-bottom-color: var(--fill-color);\n",
              "    }\n",
              "  }\n",
              "</style>\n",
              "\n",
              "  <script>\n",
              "    async function quickchart(key) {\n",
              "      const quickchartButtonEl =\n",
              "        document.querySelector('#' + key + ' button');\n",
              "      quickchartButtonEl.disabled = true;  // To prevent multiple clicks.\n",
              "      quickchartButtonEl.classList.add('colab-df-spinner');\n",
              "      try {\n",
              "        const charts = await google.colab.kernel.invokeFunction(\n",
              "            'suggestCharts', [key], {});\n",
              "      } catch (error) {\n",
              "        console.error('Error during call to suggestCharts:', error);\n",
              "      }\n",
              "      quickchartButtonEl.classList.remove('colab-df-spinner');\n",
              "      quickchartButtonEl.classList.add('colab-df-quickchart-complete');\n",
              "    }\n",
              "    (() => {\n",
              "      let quickchartButtonEl =\n",
              "        document.querySelector('#df-a258fda4-7e9f-468d-868a-2c96e29acae0 button');\n",
              "      quickchartButtonEl.style.display =\n",
              "        google.colab.kernel.accessAllowed ? 'block' : 'none';\n",
              "    })();\n",
              "  </script>\n",
              "</div>\n",
              "    </div>\n",
              "  </div>\n"
            ]
          },
          "metadata": {},
          "execution_count": 11
        }
      ],
      "source": [
        "data_path = '/content/drive/MyDrive/Colab Notebooks/Simulación matemática/Optimización/Examen/'\n",
        "data = pd.read_excel(data_path + 'E01-RegresionLineal.xlsx')\n",
        "data"
      ]
    },
    {
      "cell_type": "code",
      "execution_count": 12,
      "id": "feb405d3",
      "metadata": {
        "id": "feb405d3"
      },
      "outputs": [],
      "source": [
        "m = len(data)\n",
        "x = data[0].to_numpy()\n",
        "y = data[46]\n",
        "\n",
        "data_array_y = data[46].to_numpy()"
      ]
    },
    {
      "cell_type": "markdown",
      "id": "8714fbd7",
      "metadata": {
        "id": "8714fbd7"
      },
      "source": [
        "1. Ajuste los datos con polinomios de grados 1, 3, y 5. Muestre los errores de forma gráfica. ¿Qué polinomio se ajusta mejor?"
      ]
    },
    {
      "cell_type": "code",
      "execution_count": 13,
      "id": "027ba631",
      "metadata": {
        "id": "027ba631"
      },
      "outputs": [],
      "source": [
        "def funcion_de_costo(beta, X, y):\n",
        "    m, n = X.shape\n",
        "    beta = np.reshape(beta, [n, 1])\n",
        "    y_pred = X @ beta\n",
        "    error = y_pred - y\n",
        "    return (error.T @ error)[0][0]\n",
        "\n",
        "#lineal = b0 + b1*x\n",
        "beta = np.random.rand(2)\n",
        "ones = np.ones([m, 1])\n",
        "x_factor = np.reshape(x, [m, 1])\n",
        "X = np.hstack( (ones, x_factor) )\n",
        "y_vector = np.reshape(data_array_y, [m, 1])\n",
        "sol1 = opt.minimize(funcion_de_costo, beta, args=(X, y_vector))\n",
        "\n",
        "#cuadrática = b0 + b1*x + b2*x**2\n",
        "beta = np.random.rand(3)\n",
        "x2_factor = np.reshape(x**2, [m, 1])\n",
        "X2 = np.hstack( (ones, x_factor, x2_factor) )\n",
        "sol2 = opt.minimize(funcion_de_costo, beta, args=(X2, y_vector))\n",
        "\n",
        "#cúbica = b0 + b1*x + b2*x**2 + b3*x**3\n",
        "beta = np.random.rand(4)\n",
        "x3_factor = np.reshape(x**3, [m, 1])\n",
        "X3 = np.hstack( (ones, x_factor, x2_factor, x3_factor) )\n",
        "sol3 = opt.minimize(funcion_de_costo, beta, args=(X3, y_vector))\n",
        "\n",
        "#cuarta = b0 + b1*x + b2*x**2 + b3*x**3 + b4*x**4\n",
        "beta = np.random.rand(5)\n",
        "x4_factor = np.reshape(x**4, [m, 1])\n",
        "X4 = np.hstack( (ones, x_factor, x2_factor, x3_factor, x4_factor) )\n",
        "sol4 = opt.minimize(funcion_de_costo, beta, args=(X4, y_vector))\n",
        "\n",
        "#quinta = b0 + b1*x + b2*x**2 + b3*x**3 + b4*x**4 + b5*x**5\n",
        "beta = np.random.rand(6)\n",
        "x5_factor = np.reshape(x**5, [m, 1])\n",
        "X5 = np.hstack( (ones, x_factor, x2_factor, x3_factor, x4_factor, x5_factor) )\n",
        "sol5 = opt.minimize(funcion_de_costo, beta, args=(X5, y_vector))"
      ]
    },
    {
      "cell_type": "code",
      "execution_count": 14,
      "id": "867c7c09",
      "metadata": {
        "colab": {
          "base_uri": "https://localhost:8080/",
          "height": 447
        },
        "id": "867c7c09",
        "outputId": "cfc15c01-e171-4668-ade1-3c18074e0220"
      },
      "outputs": [
        {
          "output_type": "execute_result",
          "data": {
            "text/plain": [
              "<BarContainer object of 3 artists>"
            ]
          },
          "metadata": {},
          "execution_count": 14
        },
        {
          "output_type": "display_data",
          "data": {
            "text/plain": [
              "<Figure size 640x480 with 1 Axes>"
            ],
            "image/png": "[encoded data removed]"
          },
          "metadata": {}
        }
      ],
      "source": [
        "x_label = [1, 2, 3]\n",
        "y_label = [sol1.fun, sol3.fun, sol5.fun]\n",
        "etiquetas = [\"x\", \"x**3\", \"x**5\"]\n",
        "\n",
        "fig, ax = plt.subplots()\n",
        "ax.bar(x = x_label, height = y_label, tick_label = etiquetas)"
      ]
    },
    {
      "cell_type": "code",
      "source": [
        "print(\"Se ajusta mejor con el polinomio de grado 5, ya que unicamente tiene un error de \"+ str(sol5.fun) + \" en comparacion con los errores de polinomios \\nde grado 1 y 3, \"+ str(sol1.fun) + \" y \" + str(sol3.fun) + \" respectivamente\")"
      ],
      "metadata": {
        "colab": {
          "base_uri": "https://localhost:8080/"
        },
        "id": "ku6-fNJgkTuO",
        "outputId": "198b6aad-5c5b-4e69-e30c-e33adbe1aa6d"
      },
      "id": "ku6-fNJgkTuO",
      "execution_count": 15,
      "outputs": [
        {
          "output_type": "stream",
          "name": "stdout",
          "text": [
            "Se ajusta mejor con el polinomio de grado 5, ya que unicamente tiene un error de 964.21616197335 en comparacion con los errores de polinomios \n",
            "de grado 1 y 3, 120925.08408810687 y 1023.8468194045411 respectivamente\n"
          ]
        }
      ]
    },
    {
      "cell_type": "markdown",
      "id": "59862478",
      "metadata": {
        "id": "59862478"
      },
      "source": [
        "2. Muestre en un gráfico los datos y el polinomio que mejor se ajuste."
      ]
    },
    {
      "cell_type": "code",
      "execution_count": 16,
      "id": "27387213",
      "metadata": {
        "colab": {
          "base_uri": "https://localhost:8080/",
          "height": 447
        },
        "id": "27387213",
        "outputId": "ed49b4a6-ce8a-45b8-a075-e571daf3a910"
      },
      "outputs": [
        {
          "output_type": "execute_result",
          "data": {
            "text/plain": [
              "<matplotlib.legend.Legend at 0x7901d70a66b0>"
            ]
          },
          "metadata": {},
          "execution_count": 16
        },
        {
          "output_type": "display_data",
          "data": {
            "text/plain": [
              "<Figure size 640x480 with 1 Axes>"
            ],
            "image/png": "[encoded data removed]"
          },
          "metadata": {}
        }
      ],
      "source": [
        "def f5(x):\n",
        "    return sol5.x[0] + sol5.x[1]*x + sol5.x[2]*x**2 + sol5.x[3]*x**3 + sol5.x[4]*x**4 + sol5.x[5]*x**5\n",
        "\n",
        "plt.figure()\n",
        "plt.scatter(x, y)\n",
        "plt.plot(x, f5(x), \"r\", label = \"grado 5\")\n",
        "plt.legend(loc = \"best\")"
      ]
    },
    {
      "cell_type": "markdown",
      "id": "238f342a",
      "metadata": {
        "id": "238f342a"
      },
      "source": [
        "3. Use el modelo para averiguar el valor de $y$ cuando:\n",
        "- $x=0.001$\n",
        "- $x=-0.1$\n",
        "- $x=2.1$"
      ]
    },
    {
      "cell_type": "code",
      "execution_count": 17,
      "id": "82706e4e",
      "metadata": {
        "colab": {
          "base_uri": "https://localhost:8080/"
        },
        "id": "82706e4e",
        "outputId": "c3923c2a-e4fa-416f-dadc-f9cf8c19fd4e"
      },
      "outputs": [
        {
          "output_type": "execute_result",
          "data": {
            "text/plain": [
              "2.132080470844751"
            ]
          },
          "metadata": {},
          "execution_count": 17
        }
      ],
      "source": [
        "f5(0.001)"
      ]
    },
    {
      "cell_type": "code",
      "execution_count": 18,
      "id": "b5d4cfe7",
      "metadata": {
        "colab": {
          "base_uri": "https://localhost:8080/"
        },
        "id": "b5d4cfe7",
        "outputId": "a338f9f8-9ab1-4f77-b627-cc487cbe14ab"
      },
      "outputs": [
        {
          "output_type": "execute_result",
          "data": {
            "text/plain": [
              "2.5629617053849554"
            ]
          },
          "metadata": {},
          "execution_count": 18
        }
      ],
      "source": [
        "f5(-0.1)"
      ]
    },
    {
      "cell_type": "code",
      "execution_count": 19,
      "id": "51beb7c1",
      "metadata": {
        "colab": {
          "base_uri": "https://localhost:8080/"
        },
        "id": "51beb7c1",
        "outputId": "41991ec6-c23e-45d0-a7c5-02d821b809bc"
      },
      "outputs": [
        {
          "output_type": "execute_result",
          "data": {
            "text/plain": [
              "108.84924822034577"
            ]
          },
          "metadata": {},
          "execution_count": 19
        }
      ],
      "source": [
        "f5(2.1)"
      ]
    },
    {
      "cell_type": "markdown",
      "id": "4af77457",
      "metadata": {
        "id": "4af77457"
      },
      "source": [
        "4. ¿Qué diferencias encuentra en cuanto a la interpolación y la extrapolación?"
      ]
    },
    {
      "cell_type": "markdown",
      "id": "2e5066df",
      "metadata": {
        "id": "2e5066df"
      },
      "source": [
        "Son muy parecidos los valores en y evaluados en 0.001 y -0.01, mientras que en 2.1 se aleja bastante. Unicamente el punto evaluado en 0.001 es una interpolación, mientras que los otros 2 son una extrapolación, es decir están prediciendo como se vería un punto en ese lugar si es que lo hubiera."
      ]
    },
    {
      "cell_type": "markdown",
      "id": "3ff8002f",
      "metadata": {
        "id": "3ff8002f"
      },
      "source": [
        "5. Agregue un factor $\\cos{(10x)}$ a su modelo y grafique los resultados. ¿Mejoró el resultado?"
      ]
    },
    {
      "cell_type": "code",
      "execution_count": 20,
      "id": "28b1f9ef",
      "metadata": {
        "id": "28b1f9ef"
      },
      "outputs": [],
      "source": [
        "#quinta con coseno = b0 + b1*x + b2*x**2 + b3*x**3 + b4*x**4 + b5*x**5 + cos(10*x)\n",
        "beta = np.random.rand(7)\n",
        "cos_factor = np.reshape(np.cos(10*x), [m, 1])\n",
        "X_cos = np.hstack( (ones, x_factor, x2_factor, x3_factor, x4_factor, x5_factor, cos_factor) )\n",
        "sol5_c = opt.minimize(funcion_de_costo, beta, args=(X_cos, y_vector))"
      ]
    },
    {
      "cell_type": "code",
      "source": [
        "def f5_c(x):\n",
        "    return sol5_c.x[0] + sol5_c.x[1]*x + sol5_c.x[2]*x**2 + sol5_c.x[3]*x**3 + sol5_c.x[4]*x**4 + sol5_c.x[5]*x**5 + sol5_c.x[6]*np.cos(10*x)\n",
        "\n",
        "plt.figure()\n",
        "plt.scatter(x, y)\n",
        "plt.plot(x, f5_c(x), \"r\", label = \"grado 5 con cos(10*x)\")\n",
        "plt.legend(loc = \"best\")"
      ],
      "metadata": {
        "colab": {
          "base_uri": "https://localhost:8080/",
          "height": 447
        },
        "id": "A94D_UT_qw18",
        "outputId": "a54d7cb6-e9ad-45bd-e530-851b6570d0ed"
      },
      "id": "A94D_UT_qw18",
      "execution_count": 21,
      "outputs": [
        {
          "output_type": "execute_result",
          "data": {
            "text/plain": [
              "<matplotlib.legend.Legend at 0x7901d71299f0>"
            ]
          },
          "metadata": {},
          "execution_count": 21
        },
        {
          "output_type": "display_data",
          "data": {
            "text/plain": [
              "<Figure size 640x480 with 1 Axes>"
            ],
            "image/png": "[encoded data removed]"
          },
          "metadata": {}
        }
      ]
    },
    {
      "cell_type": "code",
      "source": [
        "print(\"Si mejora el ajuste, con un error de \"+ str(sol5_c.fun) + \" en comparación con el error de \" + str(sol5.fun) + \" del polinomio de grado 5\")"
      ],
      "metadata": {
        "colab": {
          "base_uri": "https://localhost:8080/"
        },
        "id": "kSfgt3GusA1s",
        "outputId": "aa11c6ae-259d-4503-ec5a-7a5a2e7ad406"
      },
      "id": "kSfgt3GusA1s",
      "execution_count": 22,
      "outputs": [
        {
          "output_type": "stream",
          "name": "stdout",
          "text": [
            "Si mejora el ajuste, con un error de 962.6564344436051 en comparación con el error de 964.21616197335 del polinomio de grado 5\n"
          ]
        }
      ]
    },
    {
      "cell_type": "markdown",
      "source": [
        "##### ***Corregí el nombre de la función en la gráfica, y reinterpreté la explicación sobre el ajuste del polinomio. Fallé en la administración del tiempo, por lo que no pude escribirlo de la manera adecuada.**"
      ],
      "metadata": {
        "id": "wMB1vqrmtLIh"
      },
      "id": "wMB1vqrmtLIh"
    },
    {
      "cell_type": "code",
      "source": [],
      "metadata": {
        "id": "o87OZ0CcYNQl"
      },
      "id": "o87OZ0CcYNQl",
      "execution_count": 22,
      "outputs": []
    }
  ],
  "metadata": {
    "kernelspec": {
      "display_name": "Python 3 (ipykernel)",
      "language": "python",
      "name": "python3"
    },
    "language_info": {
      "codemirror_mode": {
        "name": "ipython",
        "version": 3
      },
      "file_extension": ".py",
      "mimetype": "text/x-python",
      "name": "python",
      "nbconvert_exporter": "python",
      "pygments_lexer": "ipython3",
      "version": "3.8.12"
    },
    "colab": {
      "provenance": []
    }
  },
  "nbformat": 4,
  "nbformat_minor": 5
}