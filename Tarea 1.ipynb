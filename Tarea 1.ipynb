{
 "cells": [
  {
   "cell_type": "markdown",
   "id": "84d3f27c",
   "metadata": {},
   "source": [
    "# Diego Lozoya Morales"
   ]
  },
  {
   "cell_type": "markdown",
   "id": "2d198a4f",
   "metadata": {},
   "source": [
    "14/08/2023"
   ]
  },
  {
   "cell_type": "markdown",
   "id": "1af11060",
   "metadata": {},
   "source": [
    "## Sobre mí"
   ]
  },
  {
   "cell_type": "markdown",
   "id": "2e0aa2de",
   "metadata": {},
   "source": [
    "![](yo.jpg)"
   ]
  },
  {
   "cell_type": "markdown",
   "id": "fa88e746",
   "metadata": {},
   "source": [
    "Mi nombre es **Diego Lozoya Morales** y tengo 20 años. Nací en la Ciudad de México, pero llevo ya 8 años viviendo en Guadalajara. Actualmente estoy estudiando en el ITESO la carrera de Ingeniería Financiera en 3er semestre.\n",
    "\n",
    "Algunos de mis pasatiempos son:\n",
    "- Escuchar musica\n",
    "- Jugar y ver basketball\n",
    "- Ver la formula 1"
   ]
  },
  {
   "cell_type": "markdown",
   "id": "57c8077a",
   "metadata": {},
   "source": [
    "## Sobre mi carrera"
   ]
  },
  {
   "cell_type": "markdown",
   "id": "c4510833",
   "metadata": {},
   "source": [
    "En primer semestre tuvimos una materia llamada *Fundamentos Matemáticos de las Finanzas*, en la que nos enseñaron sobre los **CETES**. Éstos son un tipo de inversión muy segura. Los CETES tienen un valor nominal de 10 pesos mexicanos y funcionan mediante una tasa de descuento, es decir se compran más baratos y al final del periodo se venden por 10 MXN. Para calcular el precio que se va a pagar por cada CETE se utiliza la fórmula de valor presente, la cual es $ VP = \\frac{VF}{(1+i)^n} $\n",
    "\n",
    "Las variables significan:\n",
    "\n",
    "1. VP = Valor presente\n",
    "2. VF = Valor futuro\n",
    "3. i = Tasa de descuento\n",
    "4. n = Duración del CETE"
   ]
  }
 ],
 "metadata": {
  "kernelspec": {
   "display_name": "Python 3 (ipykernel)",
   "language": "python",
   "name": "python3"
  },
  "language_info": {
   "codemirror_mode": {
    "name": "ipython",
    "version": 3
   },
   "file_extension": ".py",
   "mimetype": "text/x-python",
   "name": "python",
   "nbconvert_exporter": "python",
   "pygments_lexer": "ipython3",
   "version": "3.11.4"
  }
 },
 "nbformat": 4,
 "nbformat_minor": 5
}
