{
 "cells": [
  {
   "cell_type": "markdown",
   "metadata": {},
   "source": [
    "Diego Lozoya Morales | 745345\n",
    "\n",
    "01/09/23"
   ]
  },
  {
   "cell_type": "markdown",
   "metadata": {},
   "source": [
    "# Tarea - Programación lineal"
   ]
  },
  {
   "cell_type": "markdown",
   "metadata": {},
   "source": [
    "### Diseño de la Dieta Óptima\n",
    "\n",
    "Se quiere producir comida para gatos de la manera más barata, no obstante se debe también asegurar que se cumplan los datos requeridos de analisis nutricional. Por lo que se quiere variar la cantidad de cada ingrediente para cumplir con los estandares nutricionales. Los requisitos que se tienen es que en $100$ gramos, se deben tener **por lo menos** $8$ gramos de proteína y $6$ gramos de grasa. Así mismo, no se debe tener más de $2$ gramos de fibra y $0.4$ gramos de sal.  \n",
    "\n",
    "Los datos nutricionales se pueden obtener de la siguiente tabla:\n",
    "\n",
    "Ingrediente|Proteína|Grasa|Fibra|Sal\n",
    ":----|----|----|----|----\n",
    "Pollo|  10.0%|08.0%|00.1%|00.2%\n",
    "Carne|  20.0%|10.0%|00.5%|00.5%\n",
    "Cordero|15.0%|11.0%|00.5%|00.7%\n",
    "Arroz|  00.0%|01.0%|10.0%|00.2%\n",
    "Trigo|  04.0%|01.0%|15.0%|00.8%\n",
    "Gel|    00.0%|00.0%|00.0%|00.0%\n",
    "\n",
    "Los costos de cada producto son:\n",
    "\n",
    "Ingrediente|Costo por gramo\n",
    ":----|----\n",
    "Pollo|$\\$$0.013\n",
    "Carne|$\\$$0.008\n",
    "Cordero|$\\$$0.010\n",
    "Arroz|$\\$$0.002\n",
    "Trigo|$\\$$0.005\n",
    "Gel|$\\$$0.001    \n",
    "\n",
    "Lo que se busca optimizar en este caso es la cantidad de productos que se debe utilizar en la comida de gato, minimizando el costo total. Para simplificar la notación use las siguientes variables: \n",
    "\n",
    "La tarea consiste en plantear el problemade programación lineal que permita satisfacer las necesidades alimenticias del gato al tiempo que minimice el costo total y resolverlo con `linprog`."
   ]
  },
  {
   "cell_type": "markdown",
   "metadata": {},
   "source": [
    "1. Criterio de optimización\n",
    "- minimizar\n",
    "2. Variables sobre las cuales tengo control\n",
    "+ $x_1:$ Gramos de pollo  \n",
    "+ $x_2:$ Gramos de carne  \n",
    "+ $x_3:$ Gramos de cordero  \n",
    "+ $x_4:$ Gramos de arroz  \n",
    "+ $x_5:$ Gramos de trigo  \n",
    "+ $x_6:$ Gramos de gel\n",
    "3. Función de costos\n",
    "$$ 0.013x_1 +  0.008x_2 + 0.010x_3 + 0.002x_4 + 0.005x_5 + 0.001x_6 = costo $$\n",
    "4. Restricciones \n",
    "- Cantidad = 100\n",
    "    - $ 1x_1 + 1x_2 + 1x_3 + 1x_4 + 1x_5 + 1x_6 = 100 $\n",
    "- Proteína $\\geq$ 8\n",
    "    - $ 0.1x_1 + 0.2x_2 + 0.15x_3 + 0x_4 + 0.04x_5 + 0x_6 \\geq 8 $\n",
    "- Grasa $\\geq$ 6\n",
    "    - $ 0.08x_1 + 0.1x_2 + 0.11x_3 + 0.01x_4 + 0.01x_5 + 0x_6 \\geq 6 $\n",
    "- Fibra $\\leq$ 2\n",
    "    - $ 0.001x_1 + 0.005x_2 + 0.005x_3 + 0.1x_4 + 0.15x_5 + 0x_6 \\leq 2 $\n",
    "- Sal $\\leq$ 0.4\n",
    "    - $ 0.002x_1 + 0.005x_2 + 0.007x_3 + 0.002x_4 + 0.008x_5 + 0x_6 \\leq 0.4 $\n",
    "5. Solución"
   ]
  },
  {
   "cell_type": "code",
   "execution_count": 2,
   "metadata": {},
   "outputs": [
    {
     "data": {
      "text/plain": [
       "array([ 0., 60.,  0.,  0.,  0., 40.])"
      ]
     },
     "execution_count": 2,
     "metadata": {},
     "output_type": "execute_result"
    }
   ],
   "source": [
    "import scipy.optimize as opt\n",
    "import numpy as np\n",
    "\n",
    "c = np.array([0.013,\n",
    "              0.008,\n",
    "              0.010,\n",
    "              0.002,\n",
    "              0.005,\n",
    "              0.001])\n",
    "\n",
    "Aub = np.array([\n",
    "    [-0.10, -0.20, -0.15, -0.00, -0.04, -0.00],\n",
    "    [-0.08, -0.10, -0.11, -0.01, -0.01, -0.00],\n",
    "    [0.001, 0.005, 0.005, 0.100, 0.150, 0.000],\n",
    "    [0.002, 0.005, 0.007, 0.002, 0.008, 0.000]\n",
    "])\n",
    "\n",
    "bub = np.array([-8,\n",
    "                -6,\n",
    "                2.0,\n",
    "                0.4])\n",
    "\n",
    "Aeq = np.array([\n",
    "    [1, 1, 1, 1, 1, 1]\n",
    "])\n",
    "\n",
    "beq = np.array([100])\n",
    "\n",
    "res = opt.linprog(c, Aub, bub, Aeq, beq)\n",
    "res.x"
   ]
  },
  {
   "cell_type": "code",
   "execution_count": 3,
   "metadata": {},
   "outputs": [
    {
     "data": {
      "text/plain": [
       "0.52"
      ]
     },
     "execution_count": 3,
     "metadata": {},
     "output_type": "execute_result"
    }
   ],
   "source": [
    "res.fun"
   ]
  },
  {
   "cell_type": "markdown",
   "metadata": {},
   "source": [
    "Para cumplir con las medidas nutimentales se debe de hacer una mezcla de 60g de carne y 40g de gel por cada 100g de alimento, para minimizar los gastos, gastando un total de $\\$0.52$ por 100g"
   ]
  },
  {
   "cell_type": "markdown",
   "metadata": {},
   "source": [
    "### Problema de distribución de energía eléctrica\n",
    "\n",
    "La Comisión Federal de Electricidad **(CFE)** dispone de cuatro plantas de generación para satisfacer la demanda diaria eléctrica en cuatro ciudades, Guadalajara, León y Morelia. Las plantas $1$, $2$ y $3$ pueden satisfacer $80$, $40$ y $60$ millones de KW al día respectivamente. Las necesidades de las ciudades de Guadalajara, León y Morelia son de $70$, $40$ y $70$ millones de Kw al día respectivamente. \n",
    "\n",
    "\n",
    "Los costos asociados al envío de suministro energético por cada millón de Kw entre cada planta y cada ciudad son los registrados en la siguiente tabla. \n",
    "\n",
    "-|Guadalajara|León|Morelia\n",
    ":----|----|----|----\n",
    "Planta 1|5|2|7\n",
    "Planta 2|3|6|6\n",
    "Planta 3|6|1|2\n",
    "\n",
    "Y por último, las restricciones del problema, van a estar dadas por las capacidades de oferta y demanda de cada planta (en millones de KW) y cada ciudad.\n",
    "\n",
    "La tarea consiste en plantear el problema de programación lineal que permita satisfacer las necesidades de todas las ciudades al tiempo que minimice los costos asociados a la distribución y resolverlo con `linprog`."
   ]
  },
  {
   "cell_type": "markdown",
   "metadata": {},
   "source": [
    "1. Criterio de optimización\n",
    "- minimizar\n",
    "2. Variables sobre las cuales tengo control\n",
    "+ $x_1$: Kw (en millones) distribuidos de la Planta 1 a Guadalajara\n",
    "+ $x_2$: Kw (en millones) distribuidos de la Planta 1 a León\n",
    "+ $x_3$: Kw (en millones) distribuidos de la Planta 1 a Morelia\n",
    "+ $x_4$: Kw (en millones) distribuidos de la Planta 2 a Guadalajara\n",
    "+ $x_5$: Kw (en millones) distribuidos de la Planta 2 a León\n",
    "+ $x_6$: Kw (en millones) distribuidos de la Planta 2 a Morelia\n",
    "+ $x_7$: Kw (en millones) distribuidos de la Planta 3 a Guadalajara\n",
    "+ $x_8$: Kw (en millones) distribuidos de la Planta 3 a León\n",
    "+ $x_9$: Kw (en millones) distribuidos de la Planta 3 a Morelia\n",
    "3. Función de costos\n",
    "$$ 5x_1 +  2x_2 + 7x_3 + 3x_4 + 6x_5 + 6x_6 + 6x_7 + 1x_8 + 2x_9 = costo $$\n",
    "4. Restricciones \n",
    "- Producción planta 1 $\\leq$ 80\n",
    "    - $ 1x_1 + 1x_2 + 1x_3 + 0x_4 + 0x_5 + 0x_6 + 0x_7 + 0x_8 + 0x_9 \\leq 80 $\n",
    "- Producción planta 2 $\\leq$ 40\n",
    "    - $ 0x_1 + 0x_2 + 0x_3 + 1x_4 + 1x_5 + 1x_6 + 0x_7 + 0x_8 + 0x_9 \\leq 40 $\n",
    "- Producción planta 3 $\\leq$ 60\n",
    "    - $ 0x_1 + 0x_2 + 0x_3 + 0x_4 + 0x_5 + 0x_6 + 1x_7 + 1x_8 + 1x_9 \\leq 60 $\n",
    "- Demanda Guadalajara = 70\n",
    "    - $ 1x_1 + 0x_2 + 0x_3 + 1x_4 + 0x_5 + 0x_6 + 1x_7 + 0x_8 + 0x_9 = 70 $\n",
    "- Demanda León = 40\n",
    "    - $ 0x_1 + 1x_2 + 0x_3 + 0x_4 + 1x_5 + 0x_6 + 0x_7 + 1x_8 + 0x_9 = 40 $\n",
    "- Demanda Morelia = 70\n",
    "    - $ 0x_1 + 0x_2 + 1x_3 + 0x_4 + 0x_5 + 1x_6 + 0x_7 + 0x_8 + 1x_9 = 70 $\n",
    "5. Solución"
   ]
  },
  {
   "cell_type": "code",
   "execution_count": 4,
   "metadata": {},
   "outputs": [
    {
     "data": {
      "text/plain": [
       "array([30., 40., 10., 40.,  0.,  0.,  0.,  0., 60.])"
      ]
     },
     "execution_count": 4,
     "metadata": {},
     "output_type": "execute_result"
    }
   ],
   "source": [
    "c = np.array([5,\n",
    "              2,\n",
    "              7,\n",
    "              3,\n",
    "              6,\n",
    "              6,\n",
    "              6,\n",
    "              1,\n",
    "              2])\n",
    "\n",
    "Aub = np.array([\n",
    "    [1, 1, 1, 0, 0, 0, 0, 0, 0],\n",
    "    [0, 0, 0, 1, 1, 1, 0, 0, 0],\n",
    "    [0, 0, 0, 0, 0, 0, 1, 1, 1]\n",
    "])\n",
    "\n",
    "bub = np.array([80,\n",
    "                40,\n",
    "                60])\n",
    "\n",
    "Aeq = np.array([\n",
    "    [1, 0, 0, 1, 0, 0, 1, 0, 0],\n",
    "    [0, 1, 0, 0, 1, 0, 0, 1, 0],\n",
    "    [0, 0, 1, 0, 0, 1, 0, 0, 1]\n",
    "])\n",
    "\n",
    "beq = np.array([70,\n",
    "                40,\n",
    "                70])\n",
    "\n",
    "res = opt.linprog(c, Aub, bub, Aeq, beq)\n",
    "res.x"
   ]
  },
  {
   "cell_type": "code",
   "execution_count": 5,
   "metadata": {},
   "outputs": [
    {
     "data": {
      "text/plain": [
       "540.0"
      ]
     },
     "execution_count": 5,
     "metadata": {},
     "output_type": "execute_result"
    }
   ],
   "source": [
    "res.fun"
   ]
  },
  {
   "cell_type": "markdown",
   "metadata": {},
   "source": [
    "Para cumplir con la demanda de las ciudades, dependiendo de la producción por planta, se deben de mandar 30 millones de Kw de la planta 1 a Guadalajara, 40 millones de Kw de la planta 1 a León, 10 millones de Kw de la planta 1 a Morelia, 40 millones de Kw de la planta 2 a Guadalajara y 60 millones de Kw de la planta 3 a Morelia, para gastar lo mínimo, lo cual es 540 unidades monetarias."
   ]
  }
 ],
 "metadata": {
  "kernelspec": {
   "display_name": "Python 3 (ipykernel)",
   "language": "python",
   "name": "python3"
  },
  "language_info": {
   "codemirror_mode": {
    "name": "ipython",
    "version": 3
   },
   "file_extension": ".py",
   "mimetype": "text/x-python",
   "name": "python",
   "nbconvert_exporter": "python",
   "pygments_lexer": "ipython3",
   "version": "3.11.4"
  }
 },
 "nbformat": 4,
 "nbformat_minor": 2
}
