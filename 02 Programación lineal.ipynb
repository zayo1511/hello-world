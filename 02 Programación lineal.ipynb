{
  "cells": [
    {
      "cell_type": "markdown",
      "metadata": {
        "id": "kMCzD7oiETFG"
      },
      "source": [
        "Diego Lozoya Morales | 745345\n",
        "\n",
        "31/08/23"
      ]
    },
    {
      "cell_type": "markdown",
      "metadata": {
        "id": "WG6JVZdiETFR"
      },
      "source": [
        "# Programación lineal"
      ]
    },
    {
      "cell_type": "markdown",
      "metadata": {
        "id": "c0N5c76pETFc"
      },
      "source": [
        "> La programación lineal es el campo de la optimización matemática dedicado a maximizar o minimizar (optimizar) funciones lineales, denominada función objetivo, de tal forma que las variables de dicha función estén sujetas a una serie de restricciones expresadas mediante un sistema de ecuaciones o inecuaciones también lineales.\n",
        "\n",
        "\n",
        "<img style=\"float: right; margin: 0px 0px 15px 15px;\" src=\"https://upload.wikimedia.org/wikipedia/commons/thumb/0/0c/Linear_Programming_Feasible_Region.svg/2000px-Linear_Programming_Feasible_Region.svg.png\" width=\"400px\" height=\"125px\" />\n",
        "\n",
        "<img style=\"float: center\" src=\"https://upload.wikimedia.org/wikipedia/commons/thumb/e/ef/3dpoly.svg/220px-3dpoly.svg.png\" width=\"350px\" height=\"125px\" />\n",
        "\n",
        "\n",
        "**Referencias:**\n",
        "- https://es.wikipedia.org/wiki/Programaci%C3%B3n_lineal\n",
        "- https://docs.scipy.org/doc/scipy-0.18.1/reference/optimize.html\n",
        "- http://bdigital.unal.edu.co/5037/4/guillermojimenezlozano.2006_Parte1.pdf"
      ]
    },
    {
      "cell_type": "markdown",
      "metadata": {
        "id": "lHaaiQRcETFe"
      },
      "source": [
        "## 1. Apuntes históricos\n",
        "\n",
        "<img style=\"float: right\" src=\"https://upload.wikimedia.org/wikipedia/commons/5/5e/JohnvonNeumann-LosAlamos.gif\" width=\"200px\" height=\"125px\" />\n",
        "\n",
        "\n",
        "- 1826:\tJoseph Fourier anticipa la programación lineal. Carl Friedrich Gauss resuelve ecuaciones lineales por eliminación \"gaussiana\".\n",
        "- 1902:\tGyula Farkas concibe un método para resolver sistemas de inecuaciones.\n",
        "- Es hasta la Segunda Guerra Mundial que se plantea la programación lineal como un modelo matemático para planificar gastos y retornos, de modo que se reduzcan costos de guerra y aumentar pérdidas del enemigo. Secreto hasta 1947 (posguerra).\n",
        "- 1947:\tGeorge Dantzig publica el algoritmo simplex y John von Neumann desarrolló la teoría de la dualidad. Se sabe que Leonid Kantoróvich también formuló la teoría en forma independiente.\n",
        "- Fue usado por muchas industrias en la planificación diaria.\n",
        "\n",
        "**Hasta acá, tiempos exponenciales de solución. Lo siguiente, tiempo polinomial.**\n",
        "\n",
        "- 1979: Leonid Khachiyan, diseñó el llamado Algoritmo del elipsoide, a través del cual demostró que el problema de la programación lineal es resoluble de manera eficiente, es decir, en tiempo polinomial.\n",
        "- 1984: Narendra Karmarkar introduce el método del punto interior para resolver problemas de programación lineal.\n",
        "\n",
        "<img style=\"float: center\" src=\"https://upload.wikimedia.org/wikipedia/commons/thumb/e/ef/Simplex-description-en.svg/240px-Simplex-description-en.svg.png\" width=\"200px\" height=\"125px\" />"
      ]
    },
    {
      "cell_type": "markdown",
      "metadata": {
        "id": "bEtgISpbETFg"
      },
      "source": [
        " $$ y \\geq 3x + 4 $$"
      ]
    },
    {
      "cell_type": "markdown",
      "metadata": {
        "id": "hUrZ2JJJETFh"
      },
      "source": [
        "## 2. Problemas de programación lineal\n",
        "\n",
        "### 2.1. Ejemplo básico\n",
        "Una multinacional farmacéutica desea fabricar un compuesto nutritivo a base de dos productos A y B.  El producto A contiene  $30\\%$ de proteínas,  un $1\\%$ de grasas y un  $10\\%$ de azúcares.  El producto B  contiene  un  $5\\%$  de proteínas,  un  $7\\%$ de grasas  y un  $10\\%$  de  azúcares.\n",
        "\n",
        "El compuesto debe de tener,  al menos, $25g$ de proteínas,  $6g$ de grasas y $30g$ de azúcares.  El coste del producto A es de $0.6$ u.m./g  y el de B es de $0.2$  u.m./g\n",
        "\n",
        "Se desea encontrar la cantidad en gramos de cada producto para que el coste total sea mínimo.\n",
        "\n",
        "Formular el problema de decidir cuánto hacer de cada producto como un problema de programación lineal."
      ]
    },
    {
      "cell_type": "markdown",
      "metadata": {
        "id": "_cZkjDR4ETFh"
      },
      "source": [
        "#### Solución\n",
        "\n"
      ]
    },
    {
      "cell_type": "markdown",
      "metadata": {
        "id": "NUcqnpnCETFh"
      },
      "source": [
        "Sean:\n",
        "- $ x_A $: la cantidad de gramos de A\n",
        "- $ x_B $: la cantidad de gramos de B\n",
        "\n",
        "1. Crieterio de optimización:\n",
        "- Minimizar\n",
        "2. Variables Sobre las cuales tengo control:\n",
        "- $ x_A $ y $ x_B $\n",
        "3. Función de costo\n",
        "$$ min_(x_A,x_B)  0.6x_A + 0.2x_B $$\n",
        "4. Restricciones\n",
        "    - Mínimo 25g de proteína\n",
        "    - Mínimo 6g de proteína\n",
        "    - Mínimo 30g de proteína\n",
        "\n",
        "$$ min_(x_A,x_B)  0.6x_A + 0.2x_B $$\n",
        "            s.t\n",
        "$$ 0.3x_A + 0.05x_B \\geq 25 $$\n",
        "$$ 0.01x_A + 0.07x_B \\geq 6 $$\n",
        "$$ 0.1x_A + 0.1x_B \\geq 30 $$"
      ]
    },
    {
      "cell_type": "markdown",
      "metadata": {
        "id": "aHcBJ7lWETFj"
      },
      "source": [
        "#### Solución gráfica:"
      ]
    },
    {
      "cell_type": "markdown",
      "metadata": {
        "id": "JI63ZGBQETFk"
      },
      "source": [
        "Restricciones:\n",
        "$$ 0.3x_A + 0.05x_B \\geq 25 $$\n",
        "$$ x_B \\geq \\frac{25-0.3x_A}{0.05} $$\n",
        "\n",
        "$$ 0.01x_A + 0.07x_B \\geq 6 $$\n",
        "$$ x_B \\geq \\frac{6-0.01x_A}{0.07} $$\n",
        "\n",
        "$$ 0.1x_A + 0.1x_B \\geq 30 $$\n",
        "$$ x_B \\geq \\frac{30-0.1x_A}{0.1} $$"
      ]
    },
    {
      "cell_type": "code",
      "execution_count": 2,
      "metadata": {
        "id": "aGUXWLOBETFk"
      },
      "outputs": [],
      "source": [
        "import matplotlib.pyplot as plt\n",
        "%matplotlib inline\n",
        "\n",
        "import numpy as np\n",
        "\n",
        "xA = np.linspace(0, 300, 1000)\n",
        "\n",
        "def r1(xA):\n",
        "    return (25 - 0.3*xA) / 0.05\n",
        "\n",
        "def r2(xA):\n",
        "    return (6 - 0.01*xA) / 0.07\n",
        "\n",
        "def r3(xA):\n",
        "    return (30 - 0.1*xA) / 0.1"
      ]
    },
    {
      "cell_type": "code",
      "execution_count": 3,
      "metadata": {
        "colab": {
          "base_uri": "https://localhost:8080/",
          "height": 435
        },
        "id": "UzebAu77ETFm",
        "outputId": "a33d84ed-69c3-4e57-e9dc-64c490602b62"
      },
      "outputs": [
        {
          "output_type": "display_data",
          "data": {
            "text/plain": [
              "<Figure size 640x480 with 1 Axes>"
            ],
            "image/png": "[encoded data removed]"
          },
          "metadata": {}
        }
      ],
      "source": [
        "plt.figure()\n",
        "\n",
        "plt.plot(xA, r1(xA), \"r\", label = \"Proteina\")\n",
        "plt.plot(xA, r2(xA), \"g\", label = \"Grasa\")\n",
        "plt.plot(xA, r3(xA), \"b\", label = \"Azúcar\")\n",
        "\n",
        "plt.ylim([0, 300])\n",
        "plt.legend(loc = \"best\")\n",
        "plt.grid()"
      ]
    },
    {
      "cell_type": "code",
      "execution_count": 4,
      "metadata": {
        "colab": {
          "base_uri": "https://localhost:8080/",
          "height": 39
        },
        "id": "1SfX-i8mETFn",
        "outputId": "664434d0-1ea7-42cc-fd0e-218fe8851a9e"
      },
      "outputs": [
        {
          "output_type": "execute_result",
          "data": {
            "text/plain": [
              "200.0 - 5.0*x"
            ],
            "text/latex": "$\\displaystyle 200.0 - 5.0 x$"
          },
          "metadata": {},
          "execution_count": 4
        }
      ],
      "source": [
        "import sympy as sp\n",
        "\n",
        "sp.var(\"x\")\n",
        "# Igualamos las líneas para encontrar su cruce, pero sympy pide igualado a cero, entonces sólo pasamos una linea restando\n",
        "ecuacion = r1(x) - r3(x)\n",
        "ecuacion"
      ]
    },
    {
      "cell_type": "code",
      "execution_count": 5,
      "metadata": {
        "colab": {
          "base_uri": "https://localhost:8080/"
        },
        "id": "qin3iZpMETFo",
        "outputId": "a7264cc8-e276-4580-a87f-a5daef7f55b2"
      },
      "outputs": [
        {
          "output_type": "execute_result",
          "data": {
            "text/plain": [
              "[40.0000000000000]"
            ]
          },
          "metadata": {},
          "execution_count": 5
        }
      ],
      "source": [
        "# Resolvemos para x\n",
        "sp.solve(ecuacion, x)"
      ]
    },
    {
      "cell_type": "code",
      "execution_count": 6,
      "metadata": {
        "colab": {
          "base_uri": "https://localhost:8080/"
        },
        "id": "DuzwHl4vETFp",
        "outputId": "11b31e42-73a5-4b1f-cadf-5265a56fede3"
      },
      "outputs": [
        {
          "output_type": "execute_result",
          "data": {
            "text/plain": [
              "260.0"
            ]
          },
          "metadata": {},
          "execution_count": 6
        }
      ],
      "source": [
        "# Evaluamos el 'x' encontradp para encontrar 'y'\n",
        "r1(40)"
      ]
    },
    {
      "cell_type": "code",
      "execution_count": 7,
      "metadata": {
        "colab": {
          "base_uri": "https://localhost:8080/"
        },
        "id": "YHgWs9YeETFp",
        "outputId": "83efcca4-3191-4bb3-d672-05d86acdeb3f"
      },
      "outputs": [
        {
          "output_type": "execute_result",
          "data": {
            "text/plain": [
              "(250.000000000000, 50.0000000000000)"
            ]
          },
          "metadata": {},
          "execution_count": 7
        }
      ],
      "source": [
        "ecuacion = r2(x) - r3(x)\n",
        "x_sol = sp.solve(ecuacion, x)[0]\n",
        "x_sol, r2(x_sol)"
      ]
    },
    {
      "cell_type": "code",
      "execution_count": 8,
      "metadata": {
        "colab": {
          "base_uri": "https://localhost:8080/"
        },
        "id": "X_JWmXEjETFq",
        "outputId": "8edeaa10-9abe-4847-b14b-dd7acac8df15"
      },
      "outputs": [
        {
          "output_type": "execute_result",
          "data": {
            "text/plain": [
              "76.0"
            ]
          },
          "metadata": {},
          "execution_count": 8
        }
      ],
      "source": [
        "def costo (xA, xB):\n",
        "    return 0.6*xA + 0.2*xB\n",
        "\n",
        "costo(40, 260)"
      ]
    },
    {
      "cell_type": "code",
      "execution_count": 9,
      "metadata": {
        "colab": {
          "base_uri": "https://localhost:8080/"
        },
        "id": "gBLoWLZ3ETGP",
        "outputId": "78db124f-c2f1-48e7-cb18-1e00c77d2f97"
      },
      "outputs": [
        {
          "output_type": "execute_result",
          "data": {
            "text/plain": [
              "160.0"
            ]
          },
          "metadata": {},
          "execution_count": 9
        }
      ],
      "source": [
        "costo(250, 50)"
      ]
    },
    {
      "cell_type": "code",
      "execution_count": 10,
      "metadata": {
        "colab": {
          "base_uri": "https://localhost:8080/"
        },
        "id": "kN4XzVdyETGQ",
        "outputId": "2458e8be-b323-4017-8c99-38f9186dc085"
      },
      "outputs": [
        {
          "output_type": "execute_result",
          "data": {
            "text/plain": [
              "        message: Optimization terminated successfully. (HiGHS Status 7: Optimal)\n",
              "        success: True\n",
              "         status: 0\n",
              "            fun: 76.0\n",
              "              x: [ 2.600e+02  4.000e+01]\n",
              "            nit: 2\n",
              "          lower:  residual: [ 2.600e+02  4.000e+01]\n",
              "                 marginals: [ 0.000e+00  0.000e+00]\n",
              "          upper:  residual: [       inf        inf]\n",
              "                 marginals: [ 0.000e+00  0.000e+00]\n",
              "          eqlin:  residual: []\n",
              "                 marginals: []\n",
              "        ineqlin:  residual: [ 0.000e+00  1.260e+01  0.000e+00]\n",
              "                 marginals: [-1.600e+00 -0.000e+00 -1.200e+00]\n",
              " mip_node_count: 0\n",
              " mip_dual_bound: 0.0\n",
              "        mip_gap: 0.0"
            ]
          },
          "metadata": {},
          "execution_count": 10
        }
      ],
      "source": [
        "import numpy as np\n",
        "import scipy.optimize as opt\n",
        "\n",
        "c = np.array([0.2,\n",
        "              0.6])\n",
        "\n",
        "Aub = np.array([\n",
        "    [-0.05, -0.30],\n",
        "    [-0.07, -0.01],\n",
        "    [-0.10, -0.10]\n",
        "])\n",
        "\n",
        "bub = np.array([-25,\n",
        "                -6,\n",
        "                -30])\n",
        "\n",
        "sol = opt.linprog(c, Aub, bub)\n",
        "sol"
      ]
    },
    {
      "cell_type": "code",
      "execution_count": 11,
      "metadata": {
        "colab": {
          "base_uri": "https://localhost:8080/"
        },
        "id": "ovQGB33VETGS",
        "outputId": "d31264c0-b155-4261-a2c0-b8a5c3089a8b"
      },
      "outputs": [
        {
          "output_type": "execute_result",
          "data": {
            "text/plain": [
              "array([-25. , -18.6, -30. ])"
            ]
          },
          "metadata": {},
          "execution_count": 11
        }
      ],
      "source": [
        "Aub @ sol.x"
      ]
    },
    {
      "cell_type": "markdown",
      "metadata": {
        "id": "39FNBPytETGV"
      },
      "source": [
        "La combinación que cubre las restricciones de nutrición al menor costo es:\n",
        "- 40 gramos del producto A\n",
        "- 260 gramos del producto B"
      ]
    },
    {
      "cell_type": "markdown",
      "metadata": {
        "id": "UAqrh8w_ETGW"
      },
      "source": [
        "### 2.2. Ejemplo básico 2\n",
        "Una  fábrica  de  carrocerías  de  automóviles  y camiones  tiene  dos naves.\n",
        "\n",
        "+ En  la nave A,  para  hacer  la  carrocería  de  un  camión,  se  invierten  siete  días-operario,  para  fabricar  la  de  un  coche  se  precisan dos días-operario.\n",
        "\n",
        "+ En la nave B se invierten tres días operario tanto en carrocerías de camión como de coche.\n",
        "\n",
        "Por limitaciones de mano de obra y maquinaria, la nave A dispone de $300$ días operario, y la nave B de $270$ días-operario.\n",
        "\n",
        "Si los beneficios que se obtienen por cada camión son de $600$ u.m y por  cada  automóvil  $200$ u.m,  ¿cuántas  unidades  de  cada  uno  se deben  producir  para maximizar las  ganancias?\n",
        "\n",
        "**Nota:** el problema $\\max_{\\boldsymbol{x}}\\boldsymbol{g}(\\boldsymbol{x})$ es equivalente a $\\min_{\\boldsymbol{x}}-\\boldsymbol{g}(\\boldsymbol{x})$."
      ]
    },
    {
      "cell_type": "markdown",
      "metadata": {
        "id": "2lxevxh1ETGW"
      },
      "source": [
        "1. Criterio de optimización\n",
        "- maximizar\n",
        "2. Variables sobre las cuales tengo control\n",
        "- Carroceria de camiones en nave A\n",
        "- Carroceria de camiones en nave B\n",
        "- Carroceria de autos en nave A\n",
        "- Carroceria de autos en nave B\n",
        "3. Función de beneficios\n",
        "$$ 600x_AC + 200x_AA + 600x_BC + 200x_BA = ganancia $$\n",
        "4. Restricciones\n",
        "- Días operario nave A $\\leq$ 300\n",
        "    - $ 7x_AC + 2x_AA \\leq 300 $\n",
        "- Días operario nave B $\\leq$ 270\n",
        "    - $ 3x_BC + 3x_BA \\leq 270 $\n",
        "    \n",
        "$$ max_(x_AC, x_AA, x_BC, x_BA) 600x_AC + 200x_AA + 600x_BC + 200x_BA $$\n",
        "s.t.\n",
        "$$ 7x_AC + 2x_AA + 0x_BC + 0x_BA \\leq 300 $$\n",
        "$$ 0x_AC + 0x_AA + 3x_BC + 3x_BA \\leq 270 $$"
      ]
    },
    {
      "cell_type": "markdown",
      "metadata": {
        "id": "nMa7YVKCETGX"
      },
      "source": [
        "Resolviendo el problema 2 (Maximización de utilidad en carros y camiones), con la función `linprog`"
      ]
    },
    {
      "cell_type": "markdown",
      "metadata": {
        "id": "OwDF5R9vETGX"
      },
      "source": [
        "## 3. ¿Cómo se resuelve en python?\n",
        "\n",
        "### 3.1 Librería `SciPy`\n",
        "\n",
        "<img style=\"float: right; margin: 0px 0px 15px 15px;\" src=\"https://scipy.org/_static/images/scipy_med.png\" width=\"200px\" height=\"75px\" />\n",
        "\n",
        "`SciPy` es un software de código abierto basado en `Python` para matemáticas, ciencia e ingeniería.\n",
        "\n",
        "La **Librería `SciPy`** es uno de los paquetes principales y provee varias rutinas numéricas eficientes. Entre ellas, para integración numérica y optimización.\n",
        "\n",
        "En esta clase, y en lo que resta del módulo, estaremos utilizando el módulo `optimize` de la librería `SciPy`.\n",
        "\n",
        "**Importémoslo**"
      ]
    },
    {
      "cell_type": "code",
      "execution_count": 12,
      "metadata": {
        "id": "M26lWpjFETGX"
      },
      "outputs": [],
      "source": [
        "import scipy.optimize as opt"
      ]
    },
    {
      "cell_type": "code",
      "execution_count": 13,
      "metadata": {
        "colab": {
          "base_uri": "https://localhost:8080/"
        },
        "id": "R7xqMrnlETGX",
        "outputId": "8ec3818d-7658-4b6a-f40c-c25053700130"
      },
      "outputs": [
        {
          "output_type": "execute_result",
          "data": {
            "text/plain": [
              "        message: Optimization terminated successfully. (HiGHS Status 7: Optimal)\n",
              "        success: True\n",
              "         status: 0\n",
              "            fun: -84000.0\n",
              "              x: [ 0.000e+00  1.500e+02  9.000e+01  0.000e+00]\n",
              "            nit: 0\n",
              "          lower:  residual: [ 0.000e+00  1.500e+02  9.000e+01  0.000e+00]\n",
              "                 marginals: [ 1.000e+02  0.000e+00  0.000e+00  4.000e+02]\n",
              "          upper:  residual: [       inf        inf        inf        inf]\n",
              "                 marginals: [ 0.000e+00  0.000e+00  0.000e+00  0.000e+00]\n",
              "          eqlin:  residual: []\n",
              "                 marginals: []\n",
              "        ineqlin:  residual: [ 0.000e+00  0.000e+00]\n",
              "                 marginals: [-1.000e+02 -2.000e+02]\n",
              " mip_node_count: 0\n",
              " mip_dual_bound: 0.0\n",
              "        mip_gap: 0.0"
            ]
          },
          "metadata": {},
          "execution_count": 13
        }
      ],
      "source": [
        "import numpy as np\n",
        "\n",
        "c = np.array([-600,\n",
        "              -200,\n",
        "              -600,\n",
        "              -200])\n",
        "Aub = np.array([\n",
        "    [7, 2, 0, 0],\n",
        "    [0, 0, 3, 3]\n",
        "])\n",
        "bub = np.array([300,\n",
        "                270])\n",
        "\n",
        "opt.linprog(c, Aub, bub)"
      ]
    },
    {
      "cell_type": "markdown",
      "metadata": {
        "id": "sU1PPx7wETGY"
      },
      "source": [
        "Para maximizar ganancias se tienen que producir 150 camiones en la nave A y 90 autos en la nave B, para recibir $84000$"
      ]
    },
    {
      "cell_type": "markdown",
      "metadata": {
        "id": "yotM9PSPETGa"
      },
      "source": [
        "# Importar el módulo optimize de la librería scipy"
      ]
    },
    {
      "cell_type": "markdown",
      "metadata": {
        "id": "civ-bwEJETGa"
      },
      "source": [
        "El módulo `optimize` que acabamos de importar contiene varias funciones para optimización y búsqueda de raices. Entre ellas se encuentra la función `linprog`\n",
        "\n",
        "---"
      ]
    },
    {
      "cell_type": "code",
      "execution_count": 14,
      "metadata": {
        "id": "sKMUfiimETGb"
      },
      "outputs": [],
      "source": [
        "opt.linprog?"
      ]
    },
    {
      "cell_type": "markdown",
      "metadata": {
        "id": "Bm6gtFC-ETGb"
      },
      "source": [
        "**Actividad.** Mónica hace aretes y cadenitas de joyería. Es tan buena, que todo lo que hace lo vende.\n",
        "\n",
        "Le toma 30 minutos hacer un par de aretes y una hora hacer una cadenita, y como Mónica también es estudihambre, solo dispone de 10 horas a la semana para hacer las joyas. Por otra parte, el material que compra solo le alcanza para hacer 15 unidades (el par de aretes cuenta como unidad) de joyas por semana.\n",
        "\n",
        "La utilidad que le deja la venta de las joyas es $\\$15$ en cada par de aretes y $\\$20$ en cada cadenita.\n",
        "\n",
        "¿Cuántos pares de aretes y cuántas cadenitas debería hacer Mónica para maximizar su utilidad?\n",
        "\n",
        "Formular el problema en la forma explicada y obtener la solución gráfica (puede ser a mano).\n",
        "\n",
        "**Diez minutos: quien primero lo haga, comparte pantalla para explicarlo y le subiré la nota de alguna tarea a 100.**"
      ]
    },
    {
      "cell_type": "markdown",
      "metadata": {
        "id": "M1t4o-ffETGb"
      },
      "source": [
        "1. Criterio de optimización\n",
        "- maximizar\n",
        "2. Variables sobre las cuales tengo control\n",
        "- Número de pares de aretes\n",
        "- Número de cadenitas\n",
        "3. Función de beneficios\n",
        "$$ 15x_A + 20x_C = ganancia $$\n",
        "4. Restricciones\n",
        "- Tiempo $\\leq$ 10\n",
        "    - $ 0.5x_A + 1x_C \\leq 10 $\n",
        "- Unidades $\\leq$ 15\n",
        "    - $ 1x_A + 1x_C \\leq 15 $\n",
        "5. Solución"
      ]
    },
    {
      "cell_type": "code",
      "execution_count": 15,
      "metadata": {
        "colab": {
          "base_uri": "https://localhost:8080/"
        },
        "id": "bicvx3d2ETGb",
        "outputId": "fb8bfacc-6b14-4a5b-a3f6-e578ca461b7e"
      },
      "outputs": [
        {
          "output_type": "execute_result",
          "data": {
            "text/plain": [
              "        message: Optimization terminated successfully. (HiGHS Status 7: Optimal)\n",
              "        success: True\n",
              "         status: 0\n",
              "            fun: -250.0\n",
              "              x: [ 1.000e+01  5.000e+00]\n",
              "            nit: 2\n",
              "          lower:  residual: [ 1.000e+01  5.000e+00]\n",
              "                 marginals: [ 0.000e+00  0.000e+00]\n",
              "          upper:  residual: [       inf        inf]\n",
              "                 marginals: [ 0.000e+00  0.000e+00]\n",
              "          eqlin:  residual: []\n",
              "                 marginals: []\n",
              "        ineqlin:  residual: [ 0.000e+00  0.000e+00]\n",
              "                 marginals: [-1.000e+01 -1.000e+01]\n",
              " mip_node_count: 0\n",
              " mip_dual_bound: 0.0\n",
              "        mip_gap: 0.0"
            ]
          },
          "metadata": {},
          "execution_count": 15
        }
      ],
      "source": [
        "c = np.array([-15,\n",
        "              -20])\n",
        "\n",
        "Aub = np.array([\n",
        "    [0.5, 1.0],\n",
        "    [1.0, 1.0]\n",
        "])\n",
        "\n",
        "bub = np.array([10,\n",
        "                15])\n",
        "\n",
        "res = opt.linprog(c, Aub, bub)\n",
        "res"
      ]
    },
    {
      "cell_type": "code",
      "execution_count": 16,
      "metadata": {
        "colab": {
          "base_uri": "https://localhost:8080/"
        },
        "id": "Jh-TcEzXETGc",
        "outputId": "96d22670-e050-4878-a161-0a1f73d141e8"
      },
      "outputs": [
        {
          "output_type": "execute_result",
          "data": {
            "text/plain": [
              "array([10.,  5.])"
            ]
          },
          "metadata": {},
          "execution_count": 16
        }
      ],
      "source": [
        "res.x"
      ]
    },
    {
      "cell_type": "code",
      "execution_count": 17,
      "metadata": {
        "colab": {
          "base_uri": "https://localhost:8080/"
        },
        "id": "-9M91zlXETGe",
        "outputId": "7508cf79-2b89-47b1-a14d-38b88fc052a9"
      },
      "outputs": [
        {
          "output_type": "execute_result",
          "data": {
            "text/plain": [
              "-250.0"
            ]
          },
          "metadata": {},
          "execution_count": 17
        }
      ],
      "source": [
        "res.fun"
      ]
    },
    {
      "cell_type": "markdown",
      "metadata": {
        "id": "VSoUWwSCETGf"
      },
      "source": [
        "Mónica deberá de hacer 10 aretes y 5 pulseras, para obtener unas ganancias de $\\$250$"
      ]
    },
    {
      "cell_type": "markdown",
      "metadata": {
        "id": "oKplhzMrETGg"
      },
      "source": [
        "## 4. Problema de transporte 1\n",
        "- **Referencia**: http://bdigital.unal.edu.co/5037/4/guillermojimenezlozano.2006_Parte1.pdf\n",
        "\n",
        "Una  empresa tiene dos fábricas A y B.  En ellas  se fabrica un determinado  producto, a razón de 500  y 400 unidades por día respectivamente.  El producto  ha  de  ser distribuido posteriormente  a  tres  centros  C,  D  y  E,  que  requieren,  respectivamente,  200,  300  y  400  unidades.  Los  costos  de  transportar cada unidad del producto desde cada fábrica a cada centro distribuidor son los  indicados  en la tabla  siguiente:\n",
        "\n",
        "Fabrica|C|D|E|Fabricación (Unidades)\n",
        ":----|----|----|----|----\n",
        "A|  50 u.m|60 u.m|10 u.m|500 u\n",
        "B|  25 u.m|40 u.m|20 u.m|400 u\n",
        "Demanda|200|300|400|\n",
        "\n",
        "**¿De qué manera  deben  organizar  el transporte a fin de que los gastos sean mínimos?**\n",
        "\n",
        "\n",
        "Formulemos el problema para ser resuelto por la programación lineal con\n",
        "- $x_{AC}$: unidades transportadas de la fabrica \"A\" al centro \"C\"\n",
        "- $x_{AD}$: unidades transportadas de la fabrica \"A\" al centro \"D\"\n",
        "- $x_{AE}$: unidades transportadas de la fabrica \"A\" al centro \"E\"\n",
        "- $x_{BC}$: unidades transportadas de la fabrica \"B\" al centro \"C\"\n",
        "- $x_{BD}$: unidades transportadas de la fabrica \"B\" al centro \"D\"\n",
        "- $x_{BE}$: unidades transportadas de la fabrica \"B\" al centro \"E\"\n",
        "\n",
        "se tienen las siguientes ecuaciones:\n",
        "\n",
        "Restricciones de la producción:\n",
        "\n",
        "- $x_{AC} + x_{AD} + x_{AE} \\leq 500$\n",
        "- $x_{BC} + x_{BD} + x_{BE} \\leq 400$\n",
        "\n",
        "Restricciones del consumo:\n",
        "\n",
        "- $x_{AC} + x_{BC} = 200$\n",
        "- $x_{AD} + x_{BD} = 300$\n",
        "- $x_{AE} + x_{BE} = 400$\n",
        "\n",
        "La función objetivo será:\n",
        "\n",
        "$$\\min_{x_{AC},\\dots,x_{BE}}50x_{AC} + 60x_{AD} + 10x_{AE} + 25x_{BC} + 40x_{BD} + 20x_{BE}$$\n",
        "\n",
        "Resolver con `linprog`"
      ]
    },
    {
      "cell_type": "code",
      "execution_count": 18,
      "metadata": {
        "colab": {
          "base_uri": "https://localhost:8080/"
        },
        "id": "ZRr186QSETGg",
        "outputId": "73bcae49-7cd2-4f24-b5a1-28938acbf9ff"
      },
      "outputs": [
        {
          "output_type": "execute_result",
          "data": {
            "text/plain": [
              "array([  0., 100., 400., 200., 200.,   0.])"
            ]
          },
          "metadata": {},
          "execution_count": 18
        }
      ],
      "source": [
        "c = np.array([50,\n",
        "              60,\n",
        "              10,\n",
        "              25,\n",
        "              40,\n",
        "              20])\n",
        "\n",
        "Aub = np.array([\n",
        "    [1, 1, 1, 0, 0, 0],\n",
        "    [0, 0, 0, 1, 1, 1],\n",
        "])\n",
        "\n",
        "Aeq = np.array([\n",
        "    [1, 0, 0, 1, 0, 0],\n",
        "    [0, 1, 0, 0, 1, 0],\n",
        "    [0, 0, 1, 0, 0, 1],\n",
        "])\n",
        "\n",
        "bub = np.array([500,\n",
        "                400])\n",
        "\n",
        "beq = np.array([200,\n",
        "                300,\n",
        "                400])\n",
        "\n",
        "res = opt.linprog(c, Aub, bub, Aeq, beq)\n",
        "res.x"
      ]
    },
    {
      "cell_type": "code",
      "execution_count": 19,
      "metadata": {
        "colab": {
          "base_uri": "https://localhost:8080/"
        },
        "id": "nJD1eMZNETGk",
        "outputId": "0d23914d-4087-4ae3-a5b3-2b4a4c2f9979"
      },
      "outputs": [
        {
          "output_type": "execute_result",
          "data": {
            "text/plain": [
              "23000.0"
            ]
          },
          "metadata": {},
          "execution_count": 19
        }
      ],
      "source": [
        "res.fun"
      ]
    },
    {
      "cell_type": "markdown",
      "metadata": {
        "id": "pyutonrhETGk"
      },
      "source": [
        "## 5. Optimización de inversión en bonos\n",
        "\n",
        "**Referencia:**"
      ]
    },
    {
      "cell_type": "code",
      "execution_count": 20,
      "metadata": {
        "colab": {
          "base_uri": "https://localhost:8080/",
          "height": 322
        },
        "id": "3aXJR0WfETGl",
        "outputId": "d703ea4f-34ef-4017-b14f-46f0f515c8b4"
      },
      "outputs": [
        {
          "output_type": "execute_result",
          "data": {
            "text/plain": [
              "<IPython.lib.display.YouTubeVideo at 0x7965d4a538b0>"
            ],
            "text/html": [
              "\n",
              "        <iframe\n",
              "            width=\"400\"\n",
              "            height=\"300\"\n",
              "            src=\"https://www.youtube.com/embed/gukxBus8lOs\"\n",
              "            frameborder=\"0\"\n",
              "            allowfullscreen\n",
              "            \n",
              "        ></iframe>\n",
              "        "
            ],
            "image/jpeg": "[encoded data removed]"
          },
          "metadata": {},
          "execution_count": 20
        }
      ],
      "source": [
        "from IPython.display import YouTubeVideo\n",
        "YouTubeVideo('gukxBus8lOs')"
      ]
    },
    {
      "cell_type": "markdown",
      "metadata": {
        "id": "j3Bh_p-FETGl"
      },
      "source": [
        "El objetivo de este problema es determinar la mejor estrategia de inversión, dados diferentes tipos de bono, la máxima cantidad que puede ser invertida en cada bono, el porcentaje de retorno y los años de madurez. También hay una cantidad fija de dinero disponible ($\\$750,000$). Por lo menos la mitad de este dinero debe ser invertido en bonos con 10 años o más para la madurez. Se puede invertir un máximo del $25\\%$ de esta cantidad en cada bono. Finalmente, hay otra restricción que no permite usar más de $35\\%$ en bonos de alto riesgo.\n",
        "\n",
        "Existen seis (6) opciones de inversión con las letras correspondientes $A_i$\n",
        "\n",
        "1. $A_1$:(Tasa de retorno=$8.65\\%$; Años para la madurez=11, Riesgo=Bajo)\n",
        "1. $A_2$:(Tasa de retorno=$9.50\\%$; Años para la madurez=10, Riesgo=Alto)\n",
        "1. $A_3$:(Tasa de retorno=$10.00\\%$; Años para la madurez=6, Riesgo=Alto)\n",
        "1. $A_4$:(Tasa de retorno=$8.75\\%$; Años para la madurez=10, Riesgo=Bajo)\n",
        "1. $A_5$:(Tasa de retorno=$9.25\\%$; Años para la madurez=7, Riesgo=Alto)\n",
        "1. $A_6$:(Tasa de retorno=$9.00\\%$; Años para la madurez=13, Riesgo=Bajo)\n",
        "\n",
        "Lo que se quiere entonces es maximizar el retorno que deja la inversión.\n",
        "\n",
        "Este problema puede ser resuelto con programación lineal. Formalmente, puede ser descrito como:\n",
        "\n",
        "$$\\max_{A_1,A_2,...,A_6}\\sum^{6}_{i=1} A_iR_i,$$\n",
        "\n",
        "donde $A_i$ representa la cantidad invertida en la opción, y $R_i$ representa la tasa de retorno respectiva."
      ]
    },
    {
      "cell_type": "markdown",
      "metadata": {
        "id": "cmVv5VuyETGl"
      },
      "source": [
        "Restricciones\n",
        "$$ A_2 + A_3 + A_5 \\leq 262500 $$\n",
        "$$ A_1 + A_2 + A_4 + A_6 \\geq 375000 $$\n",
        "$$ A_1 \\leq 187500 $$\n",
        "$$ A_2 \\leq 187500 $$\n",
        "$$ A_3 \\leq 187500 $$\n",
        "$$ A_4 \\leq 187500 $$\n",
        "$$ A_5 \\leq 187500 $$\n",
        "$$ A_6 \\leq 187500 $$\n",
        "$$ A_1 + A_2 + A_3 + A_4 + A_5 + A_6 \\leq 750000 $$"
      ]
    },
    {
      "cell_type": "code",
      "execution_count": 21,
      "metadata": {
        "colab": {
          "base_uri": "https://localhost:8080/"
        },
        "id": "df0dU_DfETGm",
        "outputId": "25d28225-36b7-43bd-b839-01b856cb3e5c"
      },
      "outputs": [
        {
          "output_type": "execute_result",
          "data": {
            "text/plain": [
              "array([112500.,  75000., 187500., 187500.,      0., 187500.])"
            ]
          },
          "metadata": {},
          "execution_count": 21
        }
      ],
      "source": [
        "c= np.array([-8.65,\n",
        "             -9.5,\n",
        "             -10,\n",
        "             -8.75,\n",
        "             -9.25,\n",
        "             -9])\n",
        "\n",
        "Aub = np.array([\n",
        "    [0, 1, 1, 0, 1, 0],\n",
        "    [-1, -1, -0, -1, -0, -1],\n",
        "    [1, 0, 0, 0, 0, 0],\n",
        "    [0, 1, 0, 0, 0, 0],\n",
        "    [0, 0, 1, 0, 0, 0],\n",
        "    [0, 0, 0, 1, 0, 0],\n",
        "    [0, 0, 0, 0, 1, 0],\n",
        "    [0, 0, 0, 0, 0, 1],\n",
        "    [1, 1, 1, 1, 1, 1],\n",
        "])\n",
        "\n",
        "bub = ([262500,\n",
        "        -375000,\n",
        "        187500,\n",
        "        187500,\n",
        "        187500,\n",
        "        187500,\n",
        "        187500,\n",
        "        187500,\n",
        "        750000])\n",
        "\n",
        "res = opt.linprog(c, Aub, bub)\n",
        "res.x"
      ]
    },
    {
      "cell_type": "code",
      "source": [
        "print(\"Se debe de invertir $\" + str(res.x[0]) + \" en el bono A_1, $\" + str(res.x[1]) + \" en el bono A_2, $\" + str(res.x[2]) + \" en el bono A_3,\\n$\" + str(res.x[3]) + \" en el bono A_4 y $\" + str(res.x[5]) + \" en el bono A_6.\")"
      ],
      "metadata": {
        "colab": {
          "base_uri": "https://localhost:8080/"
        },
        "id": "taQ_sjmaiTei",
        "outputId": "bfb59d45-5f3b-421a-ef68-1029dfe240ba"
      },
      "execution_count": 23,
      "outputs": [
        {
          "output_type": "stream",
          "name": "stdout",
          "text": [
            "Se debe de invertir $112500.0 en el bono A_1, $75000.0 en el bono A_2, $187500.0 en el bono A_3,\n",
            "$187500.0 en el bono A_4 y $187500.0 en el bono A_6.\n"
          ]
        }
      ]
    }
  ],
  "metadata": {
    "kernelspec": {
      "display_name": "Python 3 (ipykernel)",
      "language": "python",
      "name": "python3"
    },
    "language_info": {
      "codemirror_mode": {
        "name": "ipython",
        "version": 3
      },
      "file_extension": ".py",
      "mimetype": "text/x-python",
      "name": "python",
      "nbconvert_exporter": "python",
      "pygments_lexer": "ipython3",
      "version": "3.11.4"
    },
    "colab": {
      "provenance": []
    }
  },
  "nbformat": 4,
  "nbformat_minor": 0
}